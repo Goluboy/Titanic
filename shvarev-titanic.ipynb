{
 "cells": [
  {
   "cell_type": "code",
   "execution_count": 1,
   "id": "80ea05b1",
   "metadata": {
    "_cell_guid": "b1076dfc-b9ad-4769-8c92-a6c4dae69d19",
    "_uuid": "8f2839f25d086af736a60e9eeb907d3b93b6e0e5",
    "execution": {
     "iopub.execute_input": "2024-10-26T10:03:29.217861Z",
     "iopub.status.busy": "2024-10-26T10:03:29.217438Z",
     "iopub.status.idle": "2024-10-26T10:03:31.841404Z",
     "shell.execute_reply": "2024-10-26T10:03:31.839887Z"
    },
    "papermill": {
     "duration": 2.646493,
     "end_time": "2024-10-26T10:03:31.844722",
     "exception": false,
     "start_time": "2024-10-26T10:03:29.198229",
     "status": "completed"
    },
    "tags": []
   },
   "outputs": [
    {
     "name": "stdout",
     "output_type": "stream",
     "text": [
      "/kaggle/input/data-science-day1-titanic/DSB_Day1_Titanic_train.csv\n"
     ]
    }
   ],
   "source": [
    "# This Python 3 environment comes with many helpful analytics libraries installed\n",
    "# It is defined by the kaggle/python Docker image: https://github.com/kaggle/docker-python\n",
    "# For example, here's several helpful packages to load\n",
    "\n",
    "import numpy as np # linear algebra\n",
    "import pandas as pd # data processing, CSV file I/O (e.g. pd.read_csv)\n",
    "import re\n",
    "import seaborn as sns\n",
    "import matplotlib.pyplot as plt\n",
    "\n",
    "# Input data files are available in the read-only \"../input/\" directory\n",
    "# For example, running this (by clicking run or pressing Shift+Enter) will list all files under the input directory\n",
    "\n",
    "import os\n",
    "for dirname, _, filenames in os.walk('/kaggle/input'):\n",
    "    for filename in filenames:\n",
    "        print(os.path.join(dirname, filename))\n",
    "\n",
    "# You can write up to 20GB to the current directory (/kaggle/working/) that gets preserved as output when you create a version using \"Save & Run All\" \n",
    "# You can also write temporary files to /kaggle/temp/, but they won't be saved outside of the current session"
   ]
  },
  {
   "cell_type": "code",
   "execution_count": 2,
   "id": "ab070643",
   "metadata": {
    "execution": {
     "iopub.execute_input": "2024-10-26T10:03:31.880689Z",
     "iopub.status.busy": "2024-10-26T10:03:31.879778Z",
     "iopub.status.idle": "2024-10-26T10:03:31.931147Z",
     "shell.execute_reply": "2024-10-26T10:03:31.930051Z"
    },
    "papermill": {
     "duration": 0.07247,
     "end_time": "2024-10-26T10:03:31.933596",
     "exception": false,
     "start_time": "2024-10-26T10:03:31.861126",
     "status": "completed"
    },
    "tags": []
   },
   "outputs": [
    {
     "data": {
      "text/html": [
       "<div>\n",
       "<style scoped>\n",
       "    .dataframe tbody tr th:only-of-type {\n",
       "        vertical-align: middle;\n",
       "    }\n",
       "\n",
       "    .dataframe tbody tr th {\n",
       "        vertical-align: top;\n",
       "    }\n",
       "\n",
       "    .dataframe thead th {\n",
       "        text-align: right;\n",
       "    }\n",
       "</style>\n",
       "<table border=\"1\" class=\"dataframe\">\n",
       "  <thead>\n",
       "    <tr style=\"text-align: right;\">\n",
       "      <th></th>\n",
       "      <th>PassengerId</th>\n",
       "      <th>Survived</th>\n",
       "      <th>Pclass</th>\n",
       "      <th>Name</th>\n",
       "      <th>Sex</th>\n",
       "      <th>Age</th>\n",
       "      <th>SibSp</th>\n",
       "      <th>Parch</th>\n",
       "      <th>Ticket</th>\n",
       "      <th>Fare</th>\n",
       "      <th>Cabin</th>\n",
       "      <th>Embarked</th>\n",
       "    </tr>\n",
       "  </thead>\n",
       "  <tbody>\n",
       "    <tr>\n",
       "      <th>0</th>\n",
       "      <td>1</td>\n",
       "      <td>0</td>\n",
       "      <td>3</td>\n",
       "      <td>Braund, Mr. Owen Harris</td>\n",
       "      <td>male</td>\n",
       "      <td>22.0</td>\n",
       "      <td>1</td>\n",
       "      <td>0</td>\n",
       "      <td>A/5 21171</td>\n",
       "      <td>7.2500</td>\n",
       "      <td>NaN</td>\n",
       "      <td>S</td>\n",
       "    </tr>\n",
       "    <tr>\n",
       "      <th>1</th>\n",
       "      <td>2</td>\n",
       "      <td>1</td>\n",
       "      <td>1</td>\n",
       "      <td>Cumings, Mrs. John Bradley (Florence Briggs Th...</td>\n",
       "      <td>female</td>\n",
       "      <td>38.0</td>\n",
       "      <td>1</td>\n",
       "      <td>0</td>\n",
       "      <td>PC 17599</td>\n",
       "      <td>71.2833</td>\n",
       "      <td>C85</td>\n",
       "      <td>C</td>\n",
       "    </tr>\n",
       "    <tr>\n",
       "      <th>2</th>\n",
       "      <td>3</td>\n",
       "      <td>1</td>\n",
       "      <td>3</td>\n",
       "      <td>Heikkinen, Miss. Laina</td>\n",
       "      <td>female</td>\n",
       "      <td>26.0</td>\n",
       "      <td>0</td>\n",
       "      <td>0</td>\n",
       "      <td>STON/O2. 3101282</td>\n",
       "      <td>7.9250</td>\n",
       "      <td>NaN</td>\n",
       "      <td>S</td>\n",
       "    </tr>\n",
       "    <tr>\n",
       "      <th>3</th>\n",
       "      <td>4</td>\n",
       "      <td>1</td>\n",
       "      <td>1</td>\n",
       "      <td>Futrelle, Mrs. Jacques Heath (Lily May Peel)</td>\n",
       "      <td>female</td>\n",
       "      <td>35.0</td>\n",
       "      <td>1</td>\n",
       "      <td>0</td>\n",
       "      <td>113803</td>\n",
       "      <td>53.1000</td>\n",
       "      <td>C123</td>\n",
       "      <td>S</td>\n",
       "    </tr>\n",
       "    <tr>\n",
       "      <th>4</th>\n",
       "      <td>5</td>\n",
       "      <td>0</td>\n",
       "      <td>3</td>\n",
       "      <td>Allen, Mr. William Henry</td>\n",
       "      <td>male</td>\n",
       "      <td>35.0</td>\n",
       "      <td>0</td>\n",
       "      <td>0</td>\n",
       "      <td>373450</td>\n",
       "      <td>8.0500</td>\n",
       "      <td>NaN</td>\n",
       "      <td>S</td>\n",
       "    </tr>\n",
       "    <tr>\n",
       "      <th>...</th>\n",
       "      <td>...</td>\n",
       "      <td>...</td>\n",
       "      <td>...</td>\n",
       "      <td>...</td>\n",
       "      <td>...</td>\n",
       "      <td>...</td>\n",
       "      <td>...</td>\n",
       "      <td>...</td>\n",
       "      <td>...</td>\n",
       "      <td>...</td>\n",
       "      <td>...</td>\n",
       "      <td>...</td>\n",
       "    </tr>\n",
       "    <tr>\n",
       "      <th>886</th>\n",
       "      <td>887</td>\n",
       "      <td>0</td>\n",
       "      <td>2</td>\n",
       "      <td>Montvila, Rev. Juozas</td>\n",
       "      <td>male</td>\n",
       "      <td>27.0</td>\n",
       "      <td>0</td>\n",
       "      <td>0</td>\n",
       "      <td>211536</td>\n",
       "      <td>13.0000</td>\n",
       "      <td>NaN</td>\n",
       "      <td>S</td>\n",
       "    </tr>\n",
       "    <tr>\n",
       "      <th>887</th>\n",
       "      <td>888</td>\n",
       "      <td>1</td>\n",
       "      <td>1</td>\n",
       "      <td>Graham, Miss. Margaret Edith</td>\n",
       "      <td>female</td>\n",
       "      <td>19.0</td>\n",
       "      <td>0</td>\n",
       "      <td>0</td>\n",
       "      <td>112053</td>\n",
       "      <td>30.0000</td>\n",
       "      <td>B42</td>\n",
       "      <td>S</td>\n",
       "    </tr>\n",
       "    <tr>\n",
       "      <th>888</th>\n",
       "      <td>889</td>\n",
       "      <td>0</td>\n",
       "      <td>3</td>\n",
       "      <td>Johnston, Miss. Catherine Helen \"Carrie\"</td>\n",
       "      <td>female</td>\n",
       "      <td>NaN</td>\n",
       "      <td>1</td>\n",
       "      <td>2</td>\n",
       "      <td>W./C. 6607</td>\n",
       "      <td>23.4500</td>\n",
       "      <td>NaN</td>\n",
       "      <td>S</td>\n",
       "    </tr>\n",
       "    <tr>\n",
       "      <th>889</th>\n",
       "      <td>890</td>\n",
       "      <td>1</td>\n",
       "      <td>1</td>\n",
       "      <td>Behr, Mr. Karl Howell</td>\n",
       "      <td>male</td>\n",
       "      <td>26.0</td>\n",
       "      <td>0</td>\n",
       "      <td>0</td>\n",
       "      <td>111369</td>\n",
       "      <td>30.0000</td>\n",
       "      <td>C148</td>\n",
       "      <td>C</td>\n",
       "    </tr>\n",
       "    <tr>\n",
       "      <th>890</th>\n",
       "      <td>891</td>\n",
       "      <td>0</td>\n",
       "      <td>3</td>\n",
       "      <td>Dooley, Mr. Patrick</td>\n",
       "      <td>male</td>\n",
       "      <td>32.0</td>\n",
       "      <td>0</td>\n",
       "      <td>0</td>\n",
       "      <td>370376</td>\n",
       "      <td>7.7500</td>\n",
       "      <td>NaN</td>\n",
       "      <td>Q</td>\n",
       "    </tr>\n",
       "  </tbody>\n",
       "</table>\n",
       "<p>891 rows × 12 columns</p>\n",
       "</div>"
      ],
      "text/plain": [
       "     PassengerId  Survived  Pclass  \\\n",
       "0              1         0       3   \n",
       "1              2         1       1   \n",
       "2              3         1       3   \n",
       "3              4         1       1   \n",
       "4              5         0       3   \n",
       "..           ...       ...     ...   \n",
       "886          887         0       2   \n",
       "887          888         1       1   \n",
       "888          889         0       3   \n",
       "889          890         1       1   \n",
       "890          891         0       3   \n",
       "\n",
       "                                                  Name     Sex   Age  SibSp  \\\n",
       "0                              Braund, Mr. Owen Harris    male  22.0      1   \n",
       "1    Cumings, Mrs. John Bradley (Florence Briggs Th...  female  38.0      1   \n",
       "2                               Heikkinen, Miss. Laina  female  26.0      0   \n",
       "3         Futrelle, Mrs. Jacques Heath (Lily May Peel)  female  35.0      1   \n",
       "4                             Allen, Mr. William Henry    male  35.0      0   \n",
       "..                                                 ...     ...   ...    ...   \n",
       "886                              Montvila, Rev. Juozas    male  27.0      0   \n",
       "887                       Graham, Miss. Margaret Edith  female  19.0      0   \n",
       "888           Johnston, Miss. Catherine Helen \"Carrie\"  female   NaN      1   \n",
       "889                              Behr, Mr. Karl Howell    male  26.0      0   \n",
       "890                                Dooley, Mr. Patrick    male  32.0      0   \n",
       "\n",
       "     Parch            Ticket     Fare Cabin Embarked  \n",
       "0        0         A/5 21171   7.2500   NaN        S  \n",
       "1        0          PC 17599  71.2833   C85        C  \n",
       "2        0  STON/O2. 3101282   7.9250   NaN        S  \n",
       "3        0            113803  53.1000  C123        S  \n",
       "4        0            373450   8.0500   NaN        S  \n",
       "..     ...               ...      ...   ...      ...  \n",
       "886      0            211536  13.0000   NaN        S  \n",
       "887      0            112053  30.0000   B42        S  \n",
       "888      2        W./C. 6607  23.4500   NaN        S  \n",
       "889      0            111369  30.0000  C148        C  \n",
       "890      0            370376   7.7500   NaN        Q  \n",
       "\n",
       "[891 rows x 12 columns]"
      ]
     },
     "execution_count": 2,
     "metadata": {},
     "output_type": "execute_result"
    }
   ],
   "source": [
    "df = pd.read_csv(\"/kaggle/input/data-science-day1-titanic/DSB_Day1_Titanic_train.csv\")\n",
    "df"
   ]
  },
  {
   "cell_type": "code",
   "execution_count": 3,
   "id": "70c91421",
   "metadata": {
    "execution": {
     "iopub.execute_input": "2024-10-26T10:03:31.968336Z",
     "iopub.status.busy": "2024-10-26T10:03:31.967889Z",
     "iopub.status.idle": "2024-10-26T10:03:31.992568Z",
     "shell.execute_reply": "2024-10-26T10:03:31.991333Z"
    },
    "papermill": {
     "duration": 0.044973,
     "end_time": "2024-10-26T10:03:31.995131",
     "exception": false,
     "start_time": "2024-10-26T10:03:31.950158",
     "status": "completed"
    },
    "tags": []
   },
   "outputs": [
    {
     "name": "stdout",
     "output_type": "stream",
     "text": [
      "<class 'pandas.core.frame.DataFrame'>\n",
      "RangeIndex: 891 entries, 0 to 890\n",
      "Data columns (total 12 columns):\n",
      " #   Column       Non-Null Count  Dtype  \n",
      "---  ------       --------------  -----  \n",
      " 0   PassengerId  891 non-null    int64  \n",
      " 1   Survived     891 non-null    int64  \n",
      " 2   Pclass       891 non-null    int64  \n",
      " 3   Name         891 non-null    object \n",
      " 4   Sex          891 non-null    object \n",
      " 5   Age          714 non-null    float64\n",
      " 6   SibSp        891 non-null    int64  \n",
      " 7   Parch        891 non-null    int64  \n",
      " 8   Ticket       891 non-null    object \n",
      " 9   Fare         891 non-null    float64\n",
      " 10  Cabin        204 non-null    object \n",
      " 11  Embarked     889 non-null    object \n",
      "dtypes: float64(2), int64(5), object(5)\n",
      "memory usage: 83.7+ KB\n"
     ]
    }
   ],
   "source": [
    "df.info()"
   ]
  },
  {
   "cell_type": "code",
   "execution_count": 4,
   "id": "4586c8f2",
   "metadata": {
    "execution": {
     "iopub.execute_input": "2024-10-26T10:03:32.030761Z",
     "iopub.status.busy": "2024-10-26T10:03:32.029726Z",
     "iopub.status.idle": "2024-10-26T10:03:32.063242Z",
     "shell.execute_reply": "2024-10-26T10:03:32.062104Z"
    },
    "papermill": {
     "duration": 0.053836,
     "end_time": "2024-10-26T10:03:32.065629",
     "exception": false,
     "start_time": "2024-10-26T10:03:32.011793",
     "status": "completed"
    },
    "tags": []
   },
   "outputs": [
    {
     "data": {
      "text/html": [
       "<div>\n",
       "<style scoped>\n",
       "    .dataframe tbody tr th:only-of-type {\n",
       "        vertical-align: middle;\n",
       "    }\n",
       "\n",
       "    .dataframe tbody tr th {\n",
       "        vertical-align: top;\n",
       "    }\n",
       "\n",
       "    .dataframe thead th {\n",
       "        text-align: right;\n",
       "    }\n",
       "</style>\n",
       "<table border=\"1\" class=\"dataframe\">\n",
       "  <thead>\n",
       "    <tr style=\"text-align: right;\">\n",
       "      <th></th>\n",
       "      <th>PassengerId</th>\n",
       "      <th>Survived</th>\n",
       "      <th>Pclass</th>\n",
       "      <th>Age</th>\n",
       "      <th>SibSp</th>\n",
       "      <th>Parch</th>\n",
       "      <th>Fare</th>\n",
       "    </tr>\n",
       "  </thead>\n",
       "  <tbody>\n",
       "    <tr>\n",
       "      <th>count</th>\n",
       "      <td>891.000000</td>\n",
       "      <td>891.000000</td>\n",
       "      <td>891.000000</td>\n",
       "      <td>714.000000</td>\n",
       "      <td>891.000000</td>\n",
       "      <td>891.000000</td>\n",
       "      <td>891.000000</td>\n",
       "    </tr>\n",
       "    <tr>\n",
       "      <th>mean</th>\n",
       "      <td>446.000000</td>\n",
       "      <td>0.383838</td>\n",
       "      <td>2.308642</td>\n",
       "      <td>29.699118</td>\n",
       "      <td>0.523008</td>\n",
       "      <td>0.381594</td>\n",
       "      <td>32.204208</td>\n",
       "    </tr>\n",
       "    <tr>\n",
       "      <th>std</th>\n",
       "      <td>257.353842</td>\n",
       "      <td>0.486592</td>\n",
       "      <td>0.836071</td>\n",
       "      <td>14.526497</td>\n",
       "      <td>1.102743</td>\n",
       "      <td>0.806057</td>\n",
       "      <td>49.693429</td>\n",
       "    </tr>\n",
       "    <tr>\n",
       "      <th>min</th>\n",
       "      <td>1.000000</td>\n",
       "      <td>0.000000</td>\n",
       "      <td>1.000000</td>\n",
       "      <td>0.420000</td>\n",
       "      <td>0.000000</td>\n",
       "      <td>0.000000</td>\n",
       "      <td>0.000000</td>\n",
       "    </tr>\n",
       "    <tr>\n",
       "      <th>25%</th>\n",
       "      <td>223.500000</td>\n",
       "      <td>0.000000</td>\n",
       "      <td>2.000000</td>\n",
       "      <td>20.125000</td>\n",
       "      <td>0.000000</td>\n",
       "      <td>0.000000</td>\n",
       "      <td>7.910400</td>\n",
       "    </tr>\n",
       "    <tr>\n",
       "      <th>50%</th>\n",
       "      <td>446.000000</td>\n",
       "      <td>0.000000</td>\n",
       "      <td>3.000000</td>\n",
       "      <td>28.000000</td>\n",
       "      <td>0.000000</td>\n",
       "      <td>0.000000</td>\n",
       "      <td>14.454200</td>\n",
       "    </tr>\n",
       "    <tr>\n",
       "      <th>75%</th>\n",
       "      <td>668.500000</td>\n",
       "      <td>1.000000</td>\n",
       "      <td>3.000000</td>\n",
       "      <td>38.000000</td>\n",
       "      <td>1.000000</td>\n",
       "      <td>0.000000</td>\n",
       "      <td>31.000000</td>\n",
       "    </tr>\n",
       "    <tr>\n",
       "      <th>max</th>\n",
       "      <td>891.000000</td>\n",
       "      <td>1.000000</td>\n",
       "      <td>3.000000</td>\n",
       "      <td>80.000000</td>\n",
       "      <td>8.000000</td>\n",
       "      <td>6.000000</td>\n",
       "      <td>512.329200</td>\n",
       "    </tr>\n",
       "  </tbody>\n",
       "</table>\n",
       "</div>"
      ],
      "text/plain": [
       "       PassengerId    Survived      Pclass         Age       SibSp  \\\n",
       "count   891.000000  891.000000  891.000000  714.000000  891.000000   \n",
       "mean    446.000000    0.383838    2.308642   29.699118    0.523008   \n",
       "std     257.353842    0.486592    0.836071   14.526497    1.102743   \n",
       "min       1.000000    0.000000    1.000000    0.420000    0.000000   \n",
       "25%     223.500000    0.000000    2.000000   20.125000    0.000000   \n",
       "50%     446.000000    0.000000    3.000000   28.000000    0.000000   \n",
       "75%     668.500000    1.000000    3.000000   38.000000    1.000000   \n",
       "max     891.000000    1.000000    3.000000   80.000000    8.000000   \n",
       "\n",
       "            Parch        Fare  \n",
       "count  891.000000  891.000000  \n",
       "mean     0.381594   32.204208  \n",
       "std      0.806057   49.693429  \n",
       "min      0.000000    0.000000  \n",
       "25%      0.000000    7.910400  \n",
       "50%      0.000000   14.454200  \n",
       "75%      0.000000   31.000000  \n",
       "max      6.000000  512.329200  "
      ]
     },
     "execution_count": 4,
     "metadata": {},
     "output_type": "execute_result"
    }
   ],
   "source": [
    "df.describe()"
   ]
  },
  {
   "cell_type": "code",
   "execution_count": 5,
   "id": "ef1a87ac",
   "metadata": {
    "execution": {
     "iopub.execute_input": "2024-10-26T10:03:32.102755Z",
     "iopub.status.busy": "2024-10-26T10:03:32.101776Z",
     "iopub.status.idle": "2024-10-26T10:03:32.109568Z",
     "shell.execute_reply": "2024-10-26T10:03:32.108395Z"
    },
    "papermill": {
     "duration": 0.029221,
     "end_time": "2024-10-26T10:03:32.112107",
     "exception": false,
     "start_time": "2024-10-26T10:03:32.082886",
     "status": "completed"
    },
    "tags": []
   },
   "outputs": [],
   "source": [
    "df = df.drop(columns=['PassengerId'])"
   ]
  },
  {
   "cell_type": "markdown",
   "id": "60933ca7",
   "metadata": {
    "papermill": {
     "duration": 0.016763,
     "end_time": "2024-10-26T10:03:32.146477",
     "exception": false,
     "start_time": "2024-10-26T10:03:32.129714",
     "status": "completed"
    },
    "tags": []
   },
   "source": [
    "# Id можно сразу убрать, это просто порядковый номер в df"
   ]
  },
  {
   "cell_type": "code",
   "execution_count": 6,
   "id": "d7e70118",
   "metadata": {
    "execution": {
     "iopub.execute_input": "2024-10-26T10:03:32.182310Z",
     "iopub.status.busy": "2024-10-26T10:03:32.181852Z",
     "iopub.status.idle": "2024-10-26T10:03:32.200737Z",
     "shell.execute_reply": "2024-10-26T10:03:32.199684Z"
    },
    "papermill": {
     "duration": 0.039634,
     "end_time": "2024-10-26T10:03:32.202955",
     "exception": false,
     "start_time": "2024-10-26T10:03:32.163321",
     "status": "completed"
    },
    "tags": []
   },
   "outputs": [
    {
     "data": {
      "text/html": [
       "<div>\n",
       "<style scoped>\n",
       "    .dataframe tbody tr th:only-of-type {\n",
       "        vertical-align: middle;\n",
       "    }\n",
       "\n",
       "    .dataframe tbody tr th {\n",
       "        vertical-align: top;\n",
       "    }\n",
       "\n",
       "    .dataframe thead th {\n",
       "        text-align: right;\n",
       "    }\n",
       "</style>\n",
       "<table border=\"1\" class=\"dataframe\">\n",
       "  <thead>\n",
       "    <tr style=\"text-align: right;\">\n",
       "      <th></th>\n",
       "      <th>Survived</th>\n",
       "      <th>Pclass</th>\n",
       "      <th>Name</th>\n",
       "      <th>Sex</th>\n",
       "      <th>Age</th>\n",
       "      <th>SibSp</th>\n",
       "      <th>Parch</th>\n",
       "      <th>Ticket</th>\n",
       "      <th>Fare</th>\n",
       "      <th>Cabin</th>\n",
       "      <th>Embarked</th>\n",
       "    </tr>\n",
       "  </thead>\n",
       "  <tbody>\n",
       "    <tr>\n",
       "      <th>0</th>\n",
       "      <td>0</td>\n",
       "      <td>3</td>\n",
       "      <td>Braund, Mr. Owen Harris</td>\n",
       "      <td>male</td>\n",
       "      <td>22.0</td>\n",
       "      <td>1</td>\n",
       "      <td>0</td>\n",
       "      <td>A/5 21171</td>\n",
       "      <td>7.2500</td>\n",
       "      <td>NaN</td>\n",
       "      <td>S</td>\n",
       "    </tr>\n",
       "    <tr>\n",
       "      <th>1</th>\n",
       "      <td>1</td>\n",
       "      <td>1</td>\n",
       "      <td>Cumings, Mrs. John Bradley (Florence Briggs Th...</td>\n",
       "      <td>female</td>\n",
       "      <td>38.0</td>\n",
       "      <td>1</td>\n",
       "      <td>0</td>\n",
       "      <td>PC 17599</td>\n",
       "      <td>71.2833</td>\n",
       "      <td>C85</td>\n",
       "      <td>C</td>\n",
       "    </tr>\n",
       "    <tr>\n",
       "      <th>2</th>\n",
       "      <td>1</td>\n",
       "      <td>3</td>\n",
       "      <td>Heikkinen, Miss. Laina</td>\n",
       "      <td>female</td>\n",
       "      <td>26.0</td>\n",
       "      <td>0</td>\n",
       "      <td>0</td>\n",
       "      <td>STON/O2. 3101282</td>\n",
       "      <td>7.9250</td>\n",
       "      <td>NaN</td>\n",
       "      <td>S</td>\n",
       "    </tr>\n",
       "    <tr>\n",
       "      <th>3</th>\n",
       "      <td>1</td>\n",
       "      <td>1</td>\n",
       "      <td>Futrelle, Mrs. Jacques Heath (Lily May Peel)</td>\n",
       "      <td>female</td>\n",
       "      <td>35.0</td>\n",
       "      <td>1</td>\n",
       "      <td>0</td>\n",
       "      <td>113803</td>\n",
       "      <td>53.1000</td>\n",
       "      <td>C123</td>\n",
       "      <td>S</td>\n",
       "    </tr>\n",
       "    <tr>\n",
       "      <th>4</th>\n",
       "      <td>0</td>\n",
       "      <td>3</td>\n",
       "      <td>Allen, Mr. William Henry</td>\n",
       "      <td>male</td>\n",
       "      <td>35.0</td>\n",
       "      <td>0</td>\n",
       "      <td>0</td>\n",
       "      <td>373450</td>\n",
       "      <td>8.0500</td>\n",
       "      <td>NaN</td>\n",
       "      <td>S</td>\n",
       "    </tr>\n",
       "    <tr>\n",
       "      <th>...</th>\n",
       "      <td>...</td>\n",
       "      <td>...</td>\n",
       "      <td>...</td>\n",
       "      <td>...</td>\n",
       "      <td>...</td>\n",
       "      <td>...</td>\n",
       "      <td>...</td>\n",
       "      <td>...</td>\n",
       "      <td>...</td>\n",
       "      <td>...</td>\n",
       "      <td>...</td>\n",
       "    </tr>\n",
       "    <tr>\n",
       "      <th>886</th>\n",
       "      <td>0</td>\n",
       "      <td>2</td>\n",
       "      <td>Montvila, Rev. Juozas</td>\n",
       "      <td>male</td>\n",
       "      <td>27.0</td>\n",
       "      <td>0</td>\n",
       "      <td>0</td>\n",
       "      <td>211536</td>\n",
       "      <td>13.0000</td>\n",
       "      <td>NaN</td>\n",
       "      <td>S</td>\n",
       "    </tr>\n",
       "    <tr>\n",
       "      <th>887</th>\n",
       "      <td>1</td>\n",
       "      <td>1</td>\n",
       "      <td>Graham, Miss. Margaret Edith</td>\n",
       "      <td>female</td>\n",
       "      <td>19.0</td>\n",
       "      <td>0</td>\n",
       "      <td>0</td>\n",
       "      <td>112053</td>\n",
       "      <td>30.0000</td>\n",
       "      <td>B42</td>\n",
       "      <td>S</td>\n",
       "    </tr>\n",
       "    <tr>\n",
       "      <th>888</th>\n",
       "      <td>0</td>\n",
       "      <td>3</td>\n",
       "      <td>Johnston, Miss. Catherine Helen \"Carrie\"</td>\n",
       "      <td>female</td>\n",
       "      <td>NaN</td>\n",
       "      <td>1</td>\n",
       "      <td>2</td>\n",
       "      <td>W./C. 6607</td>\n",
       "      <td>23.4500</td>\n",
       "      <td>NaN</td>\n",
       "      <td>S</td>\n",
       "    </tr>\n",
       "    <tr>\n",
       "      <th>889</th>\n",
       "      <td>1</td>\n",
       "      <td>1</td>\n",
       "      <td>Behr, Mr. Karl Howell</td>\n",
       "      <td>male</td>\n",
       "      <td>26.0</td>\n",
       "      <td>0</td>\n",
       "      <td>0</td>\n",
       "      <td>111369</td>\n",
       "      <td>30.0000</td>\n",
       "      <td>C148</td>\n",
       "      <td>C</td>\n",
       "    </tr>\n",
       "    <tr>\n",
       "      <th>890</th>\n",
       "      <td>0</td>\n",
       "      <td>3</td>\n",
       "      <td>Dooley, Mr. Patrick</td>\n",
       "      <td>male</td>\n",
       "      <td>32.0</td>\n",
       "      <td>0</td>\n",
       "      <td>0</td>\n",
       "      <td>370376</td>\n",
       "      <td>7.7500</td>\n",
       "      <td>NaN</td>\n",
       "      <td>Q</td>\n",
       "    </tr>\n",
       "  </tbody>\n",
       "</table>\n",
       "<p>891 rows × 11 columns</p>\n",
       "</div>"
      ],
      "text/plain": [
       "     Survived  Pclass                                               Name  \\\n",
       "0           0       3                            Braund, Mr. Owen Harris   \n",
       "1           1       1  Cumings, Mrs. John Bradley (Florence Briggs Th...   \n",
       "2           1       3                             Heikkinen, Miss. Laina   \n",
       "3           1       1       Futrelle, Mrs. Jacques Heath (Lily May Peel)   \n",
       "4           0       3                           Allen, Mr. William Henry   \n",
       "..        ...     ...                                                ...   \n",
       "886         0       2                              Montvila, Rev. Juozas   \n",
       "887         1       1                       Graham, Miss. Margaret Edith   \n",
       "888         0       3           Johnston, Miss. Catherine Helen \"Carrie\"   \n",
       "889         1       1                              Behr, Mr. Karl Howell   \n",
       "890         0       3                                Dooley, Mr. Patrick   \n",
       "\n",
       "        Sex   Age  SibSp  Parch            Ticket     Fare Cabin Embarked  \n",
       "0      male  22.0      1      0         A/5 21171   7.2500   NaN        S  \n",
       "1    female  38.0      1      0          PC 17599  71.2833   C85        C  \n",
       "2    female  26.0      0      0  STON/O2. 3101282   7.9250   NaN        S  \n",
       "3    female  35.0      1      0            113803  53.1000  C123        S  \n",
       "4      male  35.0      0      0            373450   8.0500   NaN        S  \n",
       "..      ...   ...    ...    ...               ...      ...   ...      ...  \n",
       "886    male  27.0      0      0            211536  13.0000   NaN        S  \n",
       "887  female  19.0      0      0            112053  30.0000   B42        S  \n",
       "888  female   NaN      1      2        W./C. 6607  23.4500   NaN        S  \n",
       "889    male  26.0      0      0            111369  30.0000  C148        C  \n",
       "890    male  32.0      0      0            370376   7.7500   NaN        Q  \n",
       "\n",
       "[891 rows x 11 columns]"
      ]
     },
     "execution_count": 6,
     "metadata": {},
     "output_type": "execute_result"
    }
   ],
   "source": [
    "df"
   ]
  },
  {
   "cell_type": "code",
   "execution_count": 7,
   "id": "3203797c",
   "metadata": {
    "execution": {
     "iopub.execute_input": "2024-10-26T10:03:32.239270Z",
     "iopub.status.busy": "2024-10-26T10:03:32.238810Z",
     "iopub.status.idle": "2024-10-26T10:03:32.250595Z",
     "shell.execute_reply": "2024-10-26T10:03:32.249309Z"
    },
    "papermill": {
     "duration": 0.033157,
     "end_time": "2024-10-26T10:03:32.253387",
     "exception": false,
     "start_time": "2024-10-26T10:03:32.220230",
     "status": "completed"
    },
    "tags": []
   },
   "outputs": [],
   "source": [
    "df['Name'] = df['Name'].map(lambda x: re.sub(r\".*(M[A-z]*\\.).*\", r\"\\1\", x))"
   ]
  },
  {
   "cell_type": "markdown",
   "id": "00cccdb5",
   "metadata": {
    "papermill": {
     "duration": 0.01702,
     "end_time": "2024-10-26T10:03:32.288265",
     "exception": false,
     "start_time": "2024-10-26T10:03:32.271245",
     "status": "completed"
    },
    "tags": []
   },
   "source": [
    "# Убираем всё имя, кроме Ms. , Mr"
   ]
  },
  {
   "cell_type": "code",
   "execution_count": 8,
   "id": "d47eae11",
   "metadata": {
    "execution": {
     "iopub.execute_input": "2024-10-26T10:03:32.325039Z",
     "iopub.status.busy": "2024-10-26T10:03:32.323846Z",
     "iopub.status.idle": "2024-10-26T10:03:32.342277Z",
     "shell.execute_reply": "2024-10-26T10:03:32.341025Z"
    },
    "papermill": {
     "duration": 0.039093,
     "end_time": "2024-10-26T10:03:32.344616",
     "exception": false,
     "start_time": "2024-10-26T10:03:32.305523",
     "status": "completed"
    },
    "tags": []
   },
   "outputs": [
    {
     "data": {
      "text/html": [
       "<div>\n",
       "<style scoped>\n",
       "    .dataframe tbody tr th:only-of-type {\n",
       "        vertical-align: middle;\n",
       "    }\n",
       "\n",
       "    .dataframe tbody tr th {\n",
       "        vertical-align: top;\n",
       "    }\n",
       "\n",
       "    .dataframe thead th {\n",
       "        text-align: right;\n",
       "    }\n",
       "</style>\n",
       "<table border=\"1\" class=\"dataframe\">\n",
       "  <thead>\n",
       "    <tr style=\"text-align: right;\">\n",
       "      <th></th>\n",
       "      <th>Survived</th>\n",
       "      <th>Pclass</th>\n",
       "      <th>Name</th>\n",
       "      <th>Sex</th>\n",
       "      <th>Age</th>\n",
       "      <th>SibSp</th>\n",
       "      <th>Parch</th>\n",
       "      <th>Ticket</th>\n",
       "      <th>Fare</th>\n",
       "      <th>Cabin</th>\n",
       "      <th>Embarked</th>\n",
       "    </tr>\n",
       "  </thead>\n",
       "  <tbody>\n",
       "    <tr>\n",
       "      <th>0</th>\n",
       "      <td>0</td>\n",
       "      <td>3</td>\n",
       "      <td>Mr.</td>\n",
       "      <td>male</td>\n",
       "      <td>22.0</td>\n",
       "      <td>1</td>\n",
       "      <td>0</td>\n",
       "      <td>A/5 21171</td>\n",
       "      <td>7.2500</td>\n",
       "      <td>NaN</td>\n",
       "      <td>S</td>\n",
       "    </tr>\n",
       "    <tr>\n",
       "      <th>1</th>\n",
       "      <td>1</td>\n",
       "      <td>1</td>\n",
       "      <td>Mrs.</td>\n",
       "      <td>female</td>\n",
       "      <td>38.0</td>\n",
       "      <td>1</td>\n",
       "      <td>0</td>\n",
       "      <td>PC 17599</td>\n",
       "      <td>71.2833</td>\n",
       "      <td>C85</td>\n",
       "      <td>C</td>\n",
       "    </tr>\n",
       "    <tr>\n",
       "      <th>2</th>\n",
       "      <td>1</td>\n",
       "      <td>3</td>\n",
       "      <td>Miss.</td>\n",
       "      <td>female</td>\n",
       "      <td>26.0</td>\n",
       "      <td>0</td>\n",
       "      <td>0</td>\n",
       "      <td>STON/O2. 3101282</td>\n",
       "      <td>7.9250</td>\n",
       "      <td>NaN</td>\n",
       "      <td>S</td>\n",
       "    </tr>\n",
       "    <tr>\n",
       "      <th>3</th>\n",
       "      <td>1</td>\n",
       "      <td>1</td>\n",
       "      <td>Mrs.</td>\n",
       "      <td>female</td>\n",
       "      <td>35.0</td>\n",
       "      <td>1</td>\n",
       "      <td>0</td>\n",
       "      <td>113803</td>\n",
       "      <td>53.1000</td>\n",
       "      <td>C123</td>\n",
       "      <td>S</td>\n",
       "    </tr>\n",
       "    <tr>\n",
       "      <th>4</th>\n",
       "      <td>0</td>\n",
       "      <td>3</td>\n",
       "      <td>Mr.</td>\n",
       "      <td>male</td>\n",
       "      <td>35.0</td>\n",
       "      <td>0</td>\n",
       "      <td>0</td>\n",
       "      <td>373450</td>\n",
       "      <td>8.0500</td>\n",
       "      <td>NaN</td>\n",
       "      <td>S</td>\n",
       "    </tr>\n",
       "    <tr>\n",
       "      <th>...</th>\n",
       "      <td>...</td>\n",
       "      <td>...</td>\n",
       "      <td>...</td>\n",
       "      <td>...</td>\n",
       "      <td>...</td>\n",
       "      <td>...</td>\n",
       "      <td>...</td>\n",
       "      <td>...</td>\n",
       "      <td>...</td>\n",
       "      <td>...</td>\n",
       "      <td>...</td>\n",
       "    </tr>\n",
       "    <tr>\n",
       "      <th>886</th>\n",
       "      <td>0</td>\n",
       "      <td>2</td>\n",
       "      <td>Montvila, Rev. Juozas</td>\n",
       "      <td>male</td>\n",
       "      <td>27.0</td>\n",
       "      <td>0</td>\n",
       "      <td>0</td>\n",
       "      <td>211536</td>\n",
       "      <td>13.0000</td>\n",
       "      <td>NaN</td>\n",
       "      <td>S</td>\n",
       "    </tr>\n",
       "    <tr>\n",
       "      <th>887</th>\n",
       "      <td>1</td>\n",
       "      <td>1</td>\n",
       "      <td>Miss.</td>\n",
       "      <td>female</td>\n",
       "      <td>19.0</td>\n",
       "      <td>0</td>\n",
       "      <td>0</td>\n",
       "      <td>112053</td>\n",
       "      <td>30.0000</td>\n",
       "      <td>B42</td>\n",
       "      <td>S</td>\n",
       "    </tr>\n",
       "    <tr>\n",
       "      <th>888</th>\n",
       "      <td>0</td>\n",
       "      <td>3</td>\n",
       "      <td>Miss.</td>\n",
       "      <td>female</td>\n",
       "      <td>NaN</td>\n",
       "      <td>1</td>\n",
       "      <td>2</td>\n",
       "      <td>W./C. 6607</td>\n",
       "      <td>23.4500</td>\n",
       "      <td>NaN</td>\n",
       "      <td>S</td>\n",
       "    </tr>\n",
       "    <tr>\n",
       "      <th>889</th>\n",
       "      <td>1</td>\n",
       "      <td>1</td>\n",
       "      <td>Mr.</td>\n",
       "      <td>male</td>\n",
       "      <td>26.0</td>\n",
       "      <td>0</td>\n",
       "      <td>0</td>\n",
       "      <td>111369</td>\n",
       "      <td>30.0000</td>\n",
       "      <td>C148</td>\n",
       "      <td>C</td>\n",
       "    </tr>\n",
       "    <tr>\n",
       "      <th>890</th>\n",
       "      <td>0</td>\n",
       "      <td>3</td>\n",
       "      <td>Mr.</td>\n",
       "      <td>male</td>\n",
       "      <td>32.0</td>\n",
       "      <td>0</td>\n",
       "      <td>0</td>\n",
       "      <td>370376</td>\n",
       "      <td>7.7500</td>\n",
       "      <td>NaN</td>\n",
       "      <td>Q</td>\n",
       "    </tr>\n",
       "  </tbody>\n",
       "</table>\n",
       "<p>891 rows × 11 columns</p>\n",
       "</div>"
      ],
      "text/plain": [
       "     Survived  Pclass                   Name     Sex   Age  SibSp  Parch  \\\n",
       "0           0       3                    Mr.    male  22.0      1      0   \n",
       "1           1       1                   Mrs.  female  38.0      1      0   \n",
       "2           1       3                  Miss.  female  26.0      0      0   \n",
       "3           1       1                   Mrs.  female  35.0      1      0   \n",
       "4           0       3                    Mr.    male  35.0      0      0   \n",
       "..        ...     ...                    ...     ...   ...    ...    ...   \n",
       "886         0       2  Montvila, Rev. Juozas    male  27.0      0      0   \n",
       "887         1       1                  Miss.  female  19.0      0      0   \n",
       "888         0       3                  Miss.  female   NaN      1      2   \n",
       "889         1       1                    Mr.    male  26.0      0      0   \n",
       "890         0       3                    Mr.    male  32.0      0      0   \n",
       "\n",
       "               Ticket     Fare Cabin Embarked  \n",
       "0           A/5 21171   7.2500   NaN        S  \n",
       "1            PC 17599  71.2833   C85        C  \n",
       "2    STON/O2. 3101282   7.9250   NaN        S  \n",
       "3              113803  53.1000  C123        S  \n",
       "4              373450   8.0500   NaN        S  \n",
       "..                ...      ...   ...      ...  \n",
       "886            211536  13.0000   NaN        S  \n",
       "887            112053  30.0000   B42        S  \n",
       "888        W./C. 6607  23.4500   NaN        S  \n",
       "889            111369  30.0000  C148        C  \n",
       "890            370376   7.7500   NaN        Q  \n",
       "\n",
       "[891 rows x 11 columns]"
      ]
     },
     "execution_count": 8,
     "metadata": {},
     "output_type": "execute_result"
    }
   ],
   "source": [
    "df"
   ]
  },
  {
   "cell_type": "code",
   "execution_count": 9,
   "id": "52324a23",
   "metadata": {
    "execution": {
     "iopub.execute_input": "2024-10-26T10:03:32.381552Z",
     "iopub.status.busy": "2024-10-26T10:03:32.381167Z",
     "iopub.status.idle": "2024-10-26T10:03:32.744337Z",
     "shell.execute_reply": "2024-10-26T10:03:32.743054Z"
    },
    "papermill": {
     "duration": 0.384389,
     "end_time": "2024-10-26T10:03:32.746785",
     "exception": false,
     "start_time": "2024-10-26T10:03:32.362396",
     "status": "completed"
    },
    "tags": []
   },
   "outputs": [
    {
     "data": {
      "image/png": "[encoded data removed]",
      "text/plain": [
       "<Figure size 1000x500 with 1 Axes>"
      ]
     },
     "metadata": {},
     "output_type": "display_data"
    }
   ],
   "source": [
    "plt.figure(figsize=(10, 5))\n",
    "sns.barplot(data=df, x='Embarked', y='Survived')\n",
    "plt.title('Survival Rate by Embarked port')\n",
    "plt.show()"
   ]
  },
  {
   "cell_type": "code",
   "execution_count": 10,
   "id": "ab685685",
   "metadata": {
    "execution": {
     "iopub.execute_input": "2024-10-26T10:03:32.784828Z",
     "iopub.status.busy": "2024-10-26T10:03:32.784411Z",
     "iopub.status.idle": "2024-10-26T10:03:32.793668Z",
     "shell.execute_reply": "2024-10-26T10:03:32.792558Z"
    },
    "papermill": {
     "duration": 0.030829,
     "end_time": "2024-10-26T10:03:32.795960",
     "exception": false,
     "start_time": "2024-10-26T10:03:32.765131",
     "status": "completed"
    },
    "tags": []
   },
   "outputs": [
    {
     "data": {
      "text/plain": [
       "Embarked\n",
       "S    644\n",
       "C    168\n",
       "Q     77\n",
       "Name: count, dtype: int64"
      ]
     },
     "execution_count": 10,
     "metadata": {},
     "output_type": "execute_result"
    }
   ],
   "source": [
    "df['Embarked'].value_counts()"
   ]
  },
  {
   "cell_type": "markdown",
   "id": "85bd0f00",
   "metadata": {
    "papermill": {
     "duration": 0.01785,
     "end_time": "2024-10-26T10:03:32.832123",
     "exception": false,
     "start_time": "2024-10-26T10:03:32.814273",
     "status": "completed"
    },
    "tags": []
   },
   "source": [
    "# Возможно, порт сильно влияет на шансы"
   ]
  },
  {
   "cell_type": "code",
   "execution_count": 11,
   "id": "cb905a06",
   "metadata": {
    "execution": {
     "iopub.execute_input": "2024-10-26T10:03:32.870113Z",
     "iopub.status.busy": "2024-10-26T10:03:32.869690Z",
     "iopub.status.idle": "2024-10-26T10:03:33.080774Z",
     "shell.execute_reply": "2024-10-26T10:03:33.079581Z"
    },
    "papermill": {
     "duration": 0.232941,
     "end_time": "2024-10-26T10:03:33.083451",
     "exception": false,
     "start_time": "2024-10-26T10:03:32.850510",
     "status": "completed"
    },
    "tags": []
   },
   "outputs": [
    {
     "data": {
      "image/png": "[encoded data removed]",
      "text/plain": [
       "<Figure size 1000x600 with 1 Axes>"
      ]
     },
     "metadata": {},
     "output_type": "display_data"
    }
   ],
   "source": [
    "plt.figure(figsize=(10, 6))\n",
    "sns.countplot(data=df, x='Sex', hue='Survived')\n",
    "plt.title('Survived Distribution by Gender')\n",
    "plt.show()"
   ]
  },
  {
   "cell_type": "markdown",
   "id": "7301b1f3",
   "metadata": {
    "papermill": {
     "duration": 0.017948,
     "end_time": "2024-10-26T10:03:33.120428",
     "exception": false,
     "start_time": "2024-10-26T10:03:33.102480",
     "status": "completed"
    },
    "tags": []
   },
   "source": [
    "# Женщины имеют намного более высокие шансы выжить"
   ]
  },
  {
   "cell_type": "code",
   "execution_count": 12,
   "id": "3f7ecca7",
   "metadata": {
    "execution": {
     "iopub.execute_input": "2024-10-26T10:03:33.159405Z",
     "iopub.status.busy": "2024-10-26T10:03:33.158980Z",
     "iopub.status.idle": "2024-10-26T10:03:33.817461Z",
     "shell.execute_reply": "2024-10-26T10:03:33.816215Z"
    },
    "papermill": {
     "duration": 0.680851,
     "end_time": "2024-10-26T10:03:33.819970",
     "exception": false,
     "start_time": "2024-10-26T10:03:33.139119",
     "status": "completed"
    },
    "tags": []
   },
   "outputs": [
    {
     "data": {
      "text/plain": [
       "<seaborn.axisgrid.FacetGrid at 0x7eacf3fb2ec0>"
      ]
     },
     "execution_count": 12,
     "metadata": {},
     "output_type": "execute_result"
    },
    {
     "data": {
      "image/png": "[encoded data removed]",
      "text/plain": [
       "<Figure size 600x300 with 2 Axes>"
      ]
     },
     "metadata": {},
     "output_type": "display_data"
    }
   ],
   "source": [
    "g = sns.FacetGrid(df, col='Survived')\n",
    "g.map(plt.hist, 'Age', bins=20)"
   ]
  },
  {
   "cell_type": "markdown",
   "id": "6347a36c",
   "metadata": {
    "papermill": {
     "duration": 0.018505,
     "end_time": "2024-10-26T10:03:33.857860",
     "exception": false,
     "start_time": "2024-10-26T10:03:33.839355",
     "status": "completed"
    },
    "tags": []
   },
   "source": [
    "Вероятно, сильно влияет, имеется скачок у детей с 0 лет. \n",
    "# Гипотеза: более старые люди имеют меньше шансов выжить из-за худшего здоровья, но при этом им помогают, что увеличивает их шансы"
   ]
  },
  {
   "cell_type": "code",
   "execution_count": 13,
   "id": "178bf21c",
   "metadata": {
    "execution": {
     "iopub.execute_input": "2024-10-26T10:03:33.896991Z",
     "iopub.status.busy": "2024-10-26T10:03:33.896558Z",
     "iopub.status.idle": "2024-10-26T10:03:33.909623Z",
     "shell.execute_reply": "2024-10-26T10:03:33.908433Z"
    },
    "papermill": {
     "duration": 0.035836,
     "end_time": "2024-10-26T10:03:33.912468",
     "exception": false,
     "start_time": "2024-10-26T10:03:33.876632",
     "status": "completed"
    },
    "tags": []
   },
   "outputs": [
    {
     "name": "stdout",
     "output_type": "stream",
     "text": [
      "<class 'pandas.core.frame.DataFrame'>\n",
      "RangeIndex: 891 entries, 0 to 890\n",
      "Data columns (total 11 columns):\n",
      " #   Column    Non-Null Count  Dtype  \n",
      "---  ------    --------------  -----  \n",
      " 0   Survived  891 non-null    int64  \n",
      " 1   Pclass    891 non-null    int64  \n",
      " 2   Name      891 non-null    object \n",
      " 3   Sex       891 non-null    object \n",
      " 4   Age       714 non-null    float64\n",
      " 5   SibSp     891 non-null    int64  \n",
      " 6   Parch     891 non-null    int64  \n",
      " 7   Ticket    891 non-null    object \n",
      " 8   Fare      891 non-null    float64\n",
      " 9   Cabin     204 non-null    object \n",
      " 10  Embarked  889 non-null    object \n",
      "dtypes: float64(2), int64(4), object(5)\n",
      "memory usage: 76.7+ KB\n"
     ]
    }
   ],
   "source": [
    "df.info()"
   ]
  },
  {
   "cell_type": "code",
   "execution_count": 14,
   "id": "ea5ea46b",
   "metadata": {
    "execution": {
     "iopub.execute_input": "2024-10-26T10:03:33.951851Z",
     "iopub.status.busy": "2024-10-26T10:03:33.951428Z",
     "iopub.status.idle": "2024-10-26T10:03:33.958161Z",
     "shell.execute_reply": "2024-10-26T10:03:33.957027Z"
    },
    "papermill": {
     "duration": 0.029286,
     "end_time": "2024-10-26T10:03:33.960539",
     "exception": false,
     "start_time": "2024-10-26T10:03:33.931253",
     "status": "completed"
    },
    "tags": []
   },
   "outputs": [],
   "source": [
    "df = df.drop(columns=['Cabin'])"
   ]
  },
  {
   "cell_type": "code",
   "execution_count": 15,
   "id": "f1eb6466",
   "metadata": {
    "execution": {
     "iopub.execute_input": "2024-10-26T10:03:34.000614Z",
     "iopub.status.busy": "2024-10-26T10:03:33.999450Z",
     "iopub.status.idle": "2024-10-26T10:03:34.007460Z",
     "shell.execute_reply": "2024-10-26T10:03:34.006421Z"
    },
    "papermill": {
     "duration": 0.030422,
     "end_time": "2024-10-26T10:03:34.009672",
     "exception": false,
     "start_time": "2024-10-26T10:03:33.979250",
     "status": "completed"
    },
    "tags": []
   },
   "outputs": [],
   "source": [
    "df.fillna({\"Age\": df['Age'].median()},inplace=True)"
   ]
  },
  {
   "cell_type": "code",
   "execution_count": 16,
   "id": "145ba01d",
   "metadata": {
    "execution": {
     "iopub.execute_input": "2024-10-26T10:03:34.049720Z",
     "iopub.status.busy": "2024-10-26T10:03:34.049321Z",
     "iopub.status.idle": "2024-10-26T10:03:34.068257Z",
     "shell.execute_reply": "2024-10-26T10:03:34.066935Z"
    },
    "papermill": {
     "duration": 0.04228,
     "end_time": "2024-10-26T10:03:34.070630",
     "exception": false,
     "start_time": "2024-10-26T10:03:34.028350",
     "status": "completed"
    },
    "tags": []
   },
   "outputs": [
    {
     "data": {
      "text/html": [
       "<div>\n",
       "<style scoped>\n",
       "    .dataframe tbody tr th:only-of-type {\n",
       "        vertical-align: middle;\n",
       "    }\n",
       "\n",
       "    .dataframe tbody tr th {\n",
       "        vertical-align: top;\n",
       "    }\n",
       "\n",
       "    .dataframe thead th {\n",
       "        text-align: right;\n",
       "    }\n",
       "</style>\n",
       "<table border=\"1\" class=\"dataframe\">\n",
       "  <thead>\n",
       "    <tr style=\"text-align: right;\">\n",
       "      <th></th>\n",
       "      <th>Survived</th>\n",
       "      <th>Pclass</th>\n",
       "      <th>Name</th>\n",
       "      <th>Sex</th>\n",
       "      <th>Age</th>\n",
       "      <th>SibSp</th>\n",
       "      <th>Parch</th>\n",
       "      <th>Ticket</th>\n",
       "      <th>Fare</th>\n",
       "      <th>Embarked</th>\n",
       "    </tr>\n",
       "  </thead>\n",
       "  <tbody>\n",
       "    <tr>\n",
       "      <th>0</th>\n",
       "      <td>0</td>\n",
       "      <td>3</td>\n",
       "      <td>Mr.</td>\n",
       "      <td>male</td>\n",
       "      <td>22.0</td>\n",
       "      <td>1</td>\n",
       "      <td>0</td>\n",
       "      <td>A/5 21171</td>\n",
       "      <td>7.2500</td>\n",
       "      <td>S</td>\n",
       "    </tr>\n",
       "    <tr>\n",
       "      <th>1</th>\n",
       "      <td>1</td>\n",
       "      <td>1</td>\n",
       "      <td>Mrs.</td>\n",
       "      <td>female</td>\n",
       "      <td>38.0</td>\n",
       "      <td>1</td>\n",
       "      <td>0</td>\n",
       "      <td>PC 17599</td>\n",
       "      <td>71.2833</td>\n",
       "      <td>C</td>\n",
       "    </tr>\n",
       "    <tr>\n",
       "      <th>2</th>\n",
       "      <td>1</td>\n",
       "      <td>3</td>\n",
       "      <td>Miss.</td>\n",
       "      <td>female</td>\n",
       "      <td>26.0</td>\n",
       "      <td>0</td>\n",
       "      <td>0</td>\n",
       "      <td>STON/O2. 3101282</td>\n",
       "      <td>7.9250</td>\n",
       "      <td>S</td>\n",
       "    </tr>\n",
       "    <tr>\n",
       "      <th>3</th>\n",
       "      <td>1</td>\n",
       "      <td>1</td>\n",
       "      <td>Mrs.</td>\n",
       "      <td>female</td>\n",
       "      <td>35.0</td>\n",
       "      <td>1</td>\n",
       "      <td>0</td>\n",
       "      <td>113803</td>\n",
       "      <td>53.1000</td>\n",
       "      <td>S</td>\n",
       "    </tr>\n",
       "    <tr>\n",
       "      <th>4</th>\n",
       "      <td>0</td>\n",
       "      <td>3</td>\n",
       "      <td>Mr.</td>\n",
       "      <td>male</td>\n",
       "      <td>35.0</td>\n",
       "      <td>0</td>\n",
       "      <td>0</td>\n",
       "      <td>373450</td>\n",
       "      <td>8.0500</td>\n",
       "      <td>S</td>\n",
       "    </tr>\n",
       "    <tr>\n",
       "      <th>...</th>\n",
       "      <td>...</td>\n",
       "      <td>...</td>\n",
       "      <td>...</td>\n",
       "      <td>...</td>\n",
       "      <td>...</td>\n",
       "      <td>...</td>\n",
       "      <td>...</td>\n",
       "      <td>...</td>\n",
       "      <td>...</td>\n",
       "      <td>...</td>\n",
       "    </tr>\n",
       "    <tr>\n",
       "      <th>886</th>\n",
       "      <td>0</td>\n",
       "      <td>2</td>\n",
       "      <td>Montvila, Rev. Juozas</td>\n",
       "      <td>male</td>\n",
       "      <td>27.0</td>\n",
       "      <td>0</td>\n",
       "      <td>0</td>\n",
       "      <td>211536</td>\n",
       "      <td>13.0000</td>\n",
       "      <td>S</td>\n",
       "    </tr>\n",
       "    <tr>\n",
       "      <th>887</th>\n",
       "      <td>1</td>\n",
       "      <td>1</td>\n",
       "      <td>Miss.</td>\n",
       "      <td>female</td>\n",
       "      <td>19.0</td>\n",
       "      <td>0</td>\n",
       "      <td>0</td>\n",
       "      <td>112053</td>\n",
       "      <td>30.0000</td>\n",
       "      <td>S</td>\n",
       "    </tr>\n",
       "    <tr>\n",
       "      <th>888</th>\n",
       "      <td>0</td>\n",
       "      <td>3</td>\n",
       "      <td>Miss.</td>\n",
       "      <td>female</td>\n",
       "      <td>28.0</td>\n",
       "      <td>1</td>\n",
       "      <td>2</td>\n",
       "      <td>W./C. 6607</td>\n",
       "      <td>23.4500</td>\n",
       "      <td>S</td>\n",
       "    </tr>\n",
       "    <tr>\n",
       "      <th>889</th>\n",
       "      <td>1</td>\n",
       "      <td>1</td>\n",
       "      <td>Mr.</td>\n",
       "      <td>male</td>\n",
       "      <td>26.0</td>\n",
       "      <td>0</td>\n",
       "      <td>0</td>\n",
       "      <td>111369</td>\n",
       "      <td>30.0000</td>\n",
       "      <td>C</td>\n",
       "    </tr>\n",
       "    <tr>\n",
       "      <th>890</th>\n",
       "      <td>0</td>\n",
       "      <td>3</td>\n",
       "      <td>Mr.</td>\n",
       "      <td>male</td>\n",
       "      <td>32.0</td>\n",
       "      <td>0</td>\n",
       "      <td>0</td>\n",
       "      <td>370376</td>\n",
       "      <td>7.7500</td>\n",
       "      <td>Q</td>\n",
       "    </tr>\n",
       "  </tbody>\n",
       "</table>\n",
       "<p>891 rows × 10 columns</p>\n",
       "</div>"
      ],
      "text/plain": [
       "     Survived  Pclass                   Name     Sex   Age  SibSp  Parch  \\\n",
       "0           0       3                    Mr.    male  22.0      1      0   \n",
       "1           1       1                   Mrs.  female  38.0      1      0   \n",
       "2           1       3                  Miss.  female  26.0      0      0   \n",
       "3           1       1                   Mrs.  female  35.0      1      0   \n",
       "4           0       3                    Mr.    male  35.0      0      0   \n",
       "..        ...     ...                    ...     ...   ...    ...    ...   \n",
       "886         0       2  Montvila, Rev. Juozas    male  27.0      0      0   \n",
       "887         1       1                  Miss.  female  19.0      0      0   \n",
       "888         0       3                  Miss.  female  28.0      1      2   \n",
       "889         1       1                    Mr.    male  26.0      0      0   \n",
       "890         0       3                    Mr.    male  32.0      0      0   \n",
       "\n",
       "               Ticket     Fare Embarked  \n",
       "0           A/5 21171   7.2500        S  \n",
       "1            PC 17599  71.2833        C  \n",
       "2    STON/O2. 3101282   7.9250        S  \n",
       "3              113803  53.1000        S  \n",
       "4              373450   8.0500        S  \n",
       "..                ...      ...      ...  \n",
       "886            211536  13.0000        S  \n",
       "887            112053  30.0000        S  \n",
       "888        W./C. 6607  23.4500        S  \n",
       "889            111369  30.0000        C  \n",
       "890            370376   7.7500        Q  \n",
       "\n",
       "[891 rows x 10 columns]"
      ]
     },
     "execution_count": 16,
     "metadata": {},
     "output_type": "execute_result"
    }
   ],
   "source": [
    "df"
   ]
  },
  {
   "cell_type": "code",
   "execution_count": 17,
   "id": "1d9ad9a2",
   "metadata": {
    "execution": {
     "iopub.execute_input": "2024-10-26T10:03:34.111273Z",
     "iopub.status.busy": "2024-10-26T10:03:34.110659Z",
     "iopub.status.idle": "2024-10-26T10:03:34.124273Z",
     "shell.execute_reply": "2024-10-26T10:03:34.122781Z"
    },
    "papermill": {
     "duration": 0.036655,
     "end_time": "2024-10-26T10:03:34.126617",
     "exception": false,
     "start_time": "2024-10-26T10:03:34.089962",
     "status": "completed"
    },
    "tags": []
   },
   "outputs": [
    {
     "name": "stdout",
     "output_type": "stream",
     "text": [
      "<class 'pandas.core.frame.DataFrame'>\n",
      "RangeIndex: 891 entries, 0 to 890\n",
      "Data columns (total 10 columns):\n",
      " #   Column    Non-Null Count  Dtype  \n",
      "---  ------    --------------  -----  \n",
      " 0   Survived  891 non-null    int64  \n",
      " 1   Pclass    891 non-null    int64  \n",
      " 2   Name      891 non-null    object \n",
      " 3   Sex       891 non-null    object \n",
      " 4   Age       891 non-null    float64\n",
      " 5   SibSp     891 non-null    int64  \n",
      " 6   Parch     891 non-null    int64  \n",
      " 7   Ticket    891 non-null    object \n",
      " 8   Fare      891 non-null    float64\n",
      " 9   Embarked  889 non-null    object \n",
      "dtypes: float64(2), int64(4), object(4)\n",
      "memory usage: 69.7+ KB\n"
     ]
    }
   ],
   "source": [
    "df.info()"
   ]
  },
  {
   "cell_type": "code",
   "execution_count": 18,
   "id": "fee688d0",
   "metadata": {
    "execution": {
     "iopub.execute_input": "2024-10-26T10:03:34.166988Z",
     "iopub.status.busy": "2024-10-26T10:03:34.166551Z",
     "iopub.status.idle": "2024-10-26T10:03:34.175745Z",
     "shell.execute_reply": "2024-10-26T10:03:34.174661Z"
    },
    "papermill": {
     "duration": 0.031978,
     "end_time": "2024-10-26T10:03:34.177988",
     "exception": false,
     "start_time": "2024-10-26T10:03:34.146010",
     "status": "completed"
    },
    "tags": []
   },
   "outputs": [
    {
     "data": {
      "text/plain": [
       "Embarked\n",
       "S    644\n",
       "C    168\n",
       "Q     77\n",
       "Name: count, dtype: int64"
      ]
     },
     "execution_count": 18,
     "metadata": {},
     "output_type": "execute_result"
    }
   ],
   "source": [
    "df['Embarked'].value_counts()"
   ]
  },
  {
   "cell_type": "code",
   "execution_count": 19,
   "id": "54181f89",
   "metadata": {
    "execution": {
     "iopub.execute_input": "2024-10-26T10:03:34.218556Z",
     "iopub.status.busy": "2024-10-26T10:03:34.218126Z",
     "iopub.status.idle": "2024-10-26T10:03:34.224973Z",
     "shell.execute_reply": "2024-10-26T10:03:34.223733Z"
    },
    "papermill": {
     "duration": 0.030317,
     "end_time": "2024-10-26T10:03:34.227556",
     "exception": false,
     "start_time": "2024-10-26T10:03:34.197239",
     "status": "completed"
    },
    "tags": []
   },
   "outputs": [],
   "source": [
    "df.fillna({\"Embarked\": \"S\"},inplace=True)"
   ]
  },
  {
   "cell_type": "markdown",
   "id": "a7b8f6bd",
   "metadata": {
    "papermill": {
     "duration": 0.020206,
     "end_time": "2024-10-26T10:03:34.268185",
     "exception": false,
     "start_time": "2024-10-26T10:03:34.247979",
     "status": "completed"
    },
    "tags": []
   },
   "source": [
    "# Заполним поля с пустыми портами отправления самым часты портом"
   ]
  },
  {
   "cell_type": "code",
   "execution_count": 20,
   "id": "8ac1f7db",
   "metadata": {
    "execution": {
     "iopub.execute_input": "2024-10-26T10:03:34.311830Z",
     "iopub.status.busy": "2024-10-26T10:03:34.310770Z",
     "iopub.status.idle": "2024-10-26T10:03:34.317615Z",
     "shell.execute_reply": "2024-10-26T10:03:34.316447Z"
    },
    "papermill": {
     "duration": 0.031335,
     "end_time": "2024-10-26T10:03:34.320137",
     "exception": false,
     "start_time": "2024-10-26T10:03:34.288802",
     "status": "completed"
    },
    "tags": []
   },
   "outputs": [],
   "source": [
    "df[\"FamilySize\"] = df[\"SibSp\"] + df[\"Parch\"]"
   ]
  },
  {
   "cell_type": "markdown",
   "id": "fbe6674a",
   "metadata": {
    "papermill": {
     "duration": 0.019107,
     "end_time": "2024-10-26T10:03:34.358842",
     "exception": false,
     "start_time": "2024-10-26T10:03:34.339735",
     "status": "completed"
    },
    "tags": []
   },
   "source": [
    "# Новая колонка - вся сеьмя, сумма SibSp и Parch."
   ]
  },
  {
   "cell_type": "code",
   "execution_count": 21,
   "id": "283cc6b2",
   "metadata": {
    "execution": {
     "iopub.execute_input": "2024-10-26T10:03:34.399563Z",
     "iopub.status.busy": "2024-10-26T10:03:34.399163Z",
     "iopub.status.idle": "2024-10-26T10:03:34.573640Z",
     "shell.execute_reply": "2024-10-26T10:03:34.572315Z"
    },
    "papermill": {
     "duration": 0.198064,
     "end_time": "2024-10-26T10:03:34.576346",
     "exception": false,
     "start_time": "2024-10-26T10:03:34.378282",
     "status": "completed"
    },
    "tags": []
   },
   "outputs": [],
   "source": [
    "from sklearn.preprocessing import LabelEncoder\n",
    "categorical_cols = df.select_dtypes(include=['object']).columns\n",
    "label_encoders = {}\n",
    "for col in categorical_cols:\n",
    "    le = LabelEncoder()\n",
    "    df[col] = le.fit_transform(df[col])\n",
    "    label_encoders[col] = le"
   ]
  },
  {
   "cell_type": "markdown",
   "id": "e57de096",
   "metadata": {
    "papermill": {
     "duration": 0.019542,
     "end_time": "2024-10-26T10:03:34.615467",
     "exception": false,
     "start_time": "2024-10-26T10:03:34.595925",
     "status": "completed"
    },
    "tags": []
   },
   "source": [
    "# Кодируем все object'ы к "
   ]
  },
  {
   "cell_type": "code",
   "execution_count": 22,
   "id": "c9cf29e1",
   "metadata": {
    "execution": {
     "iopub.execute_input": "2024-10-26T10:03:34.656189Z",
     "iopub.status.busy": "2024-10-26T10:03:34.655764Z",
     "iopub.status.idle": "2024-10-26T10:03:35.030234Z",
     "shell.execute_reply": "2024-10-26T10:03:35.028815Z"
    },
    "papermill": {
     "duration": 0.398238,
     "end_time": "2024-10-26T10:03:35.033065",
     "exception": false,
     "start_time": "2024-10-26T10:03:34.634827",
     "status": "completed"
    },
    "tags": []
   },
   "outputs": [],
   "source": [
    "from sklearn.model_selection import train_test_split\n",
    "from sklearn.ensemble import RandomForestClassifier\n",
    "from sklearn.model_selection import GridSearchCV\n",
    "\n",
    "X = df.drop(columns=['Survived'])\n",
    "y = df['Survived']\n",
    "X_train, X_test, y_train, y_test = train_test_split(X, y, test_size=0.2, random_state=42)"
   ]
  },
  {
   "cell_type": "markdown",
   "id": "f349b707",
   "metadata": {
    "papermill": {
     "duration": 0.019718,
     "end_time": "2024-10-26T10:03:35.072593",
     "exception": false,
     "start_time": "2024-10-26T10:03:35.052875",
     "status": "completed"
    },
    "tags": []
   },
   "source": [
    "# Разбиваем df на тест и тренировку"
   ]
  },
  {
   "cell_type": "code",
   "execution_count": 23,
   "id": "095639a5",
   "metadata": {
    "execution": {
     "iopub.execute_input": "2024-10-26T10:03:35.113895Z",
     "iopub.status.busy": "2024-10-26T10:03:35.113464Z",
     "iopub.status.idle": "2024-10-26T10:03:35.119196Z",
     "shell.execute_reply": "2024-10-26T10:03:35.117970Z"
    },
    "papermill": {
     "duration": 0.029438,
     "end_time": "2024-10-26T10:03:35.121702",
     "exception": false,
     "start_time": "2024-10-26T10:03:35.092264",
     "status": "completed"
    },
    "tags": []
   },
   "outputs": [],
   "source": [
    "clf_rf = RandomForestClassifier()\n",
    "parameters = {\"n_estimators\": [30,32,35,37,40], \"max_depth\": [10, 12, 14, 15]}"
   ]
  },
  {
   "cell_type": "markdown",
   "id": "5ad54ce7",
   "metadata": {
    "papermill": {
     "duration": 0.019141,
     "end_time": "2024-10-26T10:03:35.160753",
     "exception": false,
     "start_time": "2024-10-26T10:03:35.141612",
     "status": "completed"
    },
    "tags": []
   },
   "source": [
    "# Определим важные поля с помощью RandomForestClassifier"
   ]
  },
  {
   "cell_type": "code",
   "execution_count": 24,
   "id": "5c10d3e4",
   "metadata": {
    "execution": {
     "iopub.execute_input": "2024-10-26T10:03:35.201538Z",
     "iopub.status.busy": "2024-10-26T10:03:35.201091Z",
     "iopub.status.idle": "2024-10-26T10:03:35.206688Z",
     "shell.execute_reply": "2024-10-26T10:03:35.205412Z"
    },
    "papermill": {
     "duration": 0.028878,
     "end_time": "2024-10-26T10:03:35.209086",
     "exception": false,
     "start_time": "2024-10-26T10:03:35.180208",
     "status": "completed"
    },
    "tags": []
   },
   "outputs": [],
   "source": [
    "grid_search_cv_clf = GridSearchCV(clf_rf, parameters, cv = 5)"
   ]
  },
  {
   "cell_type": "code",
   "execution_count": 25,
   "id": "dab960e6",
   "metadata": {
    "execution": {
     "iopub.execute_input": "2024-10-26T10:03:35.249796Z",
     "iopub.status.busy": "2024-10-26T10:03:35.249361Z",
     "iopub.status.idle": "2024-10-26T10:03:43.495121Z",
     "shell.execute_reply": "2024-10-26T10:03:43.493780Z"
    },
    "papermill": {
     "duration": 8.269115,
     "end_time": "2024-10-26T10:03:43.497602",
     "exception": false,
     "start_time": "2024-10-26T10:03:35.228487",
     "status": "completed"
    },
    "tags": []
   },
   "outputs": [
    {
     "data": {
      "text/html": [
       "<style>#sk-container-id-1 {color: black;background-color: white;}#sk-container-id-1 pre{padding: 0;}#sk-container-id-1 div.sk-toggleable {background-color: white;}#sk-container-id-1 label.sk-toggleable__label {cursor: pointer;display: block;width: 100%;margin-bottom: 0;padding: 0.3em;box-sizing: border-box;text-align: center;}#sk-container-id-1 label.sk-toggleable__label-arrow:before {content: \"▸\";float: left;margin-right: 0.25em;color: #696969;}#sk-container-id-1 label.sk-toggleable__label-arrow:hover:before {color: black;}#sk-container-id-1 div.sk-estimator:hover label.sk-toggleable__label-arrow:before {color: black;}#sk-container-id-1 div.sk-toggleable__content {max-height: 0;max-width: 0;overflow: hidden;text-align: left;background-color: #f0f8ff;}#sk-container-id-1 div.sk-toggleable__content pre {margin: 0.2em;color: black;border-radius: 0.25em;background-color: #f0f8ff;}#sk-container-id-1 input.sk-toggleable__control:checked~div.sk-toggleable__content {max-height: 200px;max-width: 100%;overflow: auto;}#sk-container-id-1 input.sk-toggleable__control:checked~label.sk-toggleable__label-arrow:before {content: \"▾\";}#sk-container-id-1 div.sk-estimator input.sk-toggleable__control:checked~label.sk-toggleable__label {background-color: #d4ebff;}#sk-container-id-1 div.sk-label input.sk-toggleable__control:checked~label.sk-toggleable__label {background-color: #d4ebff;}#sk-container-id-1 input.sk-hidden--visually {border: 0;clip: rect(1px 1px 1px 1px);clip: rect(1px, 1px, 1px, 1px);height: 1px;margin: -1px;overflow: hidden;padding: 0;position: absolute;width: 1px;}#sk-container-id-1 div.sk-estimator {font-family: monospace;background-color: #f0f8ff;border: 1px dotted black;border-radius: 0.25em;box-sizing: border-box;margin-bottom: 0.5em;}#sk-container-id-1 div.sk-estimator:hover {background-color: #d4ebff;}#sk-container-id-1 div.sk-parallel-item::after {content: \"\";width: 100%;border-bottom: 1px solid gray;flex-grow: 1;}#sk-container-id-1 div.sk-label:hover label.sk-toggleable__label {background-color: #d4ebff;}#sk-container-id-1 div.sk-serial::before {content: \"\";position: absolute;border-left: 1px solid gray;box-sizing: border-box;top: 0;bottom: 0;left: 50%;z-index: 0;}#sk-container-id-1 div.sk-serial {display: flex;flex-direction: column;align-items: center;background-color: white;padding-right: 0.2em;padding-left: 0.2em;position: relative;}#sk-container-id-1 div.sk-item {position: relative;z-index: 1;}#sk-container-id-1 div.sk-parallel {display: flex;align-items: stretch;justify-content: center;background-color: white;position: relative;}#sk-container-id-1 div.sk-item::before, #sk-container-id-1 div.sk-parallel-item::before {content: \"\";position: absolute;border-left: 1px solid gray;box-sizing: border-box;top: 0;bottom: 0;left: 50%;z-index: -1;}#sk-container-id-1 div.sk-parallel-item {display: flex;flex-direction: column;z-index: 1;position: relative;background-color: white;}#sk-container-id-1 div.sk-parallel-item:first-child::after {align-self: flex-end;width: 50%;}#sk-container-id-1 div.sk-parallel-item:last-child::after {align-self: flex-start;width: 50%;}#sk-container-id-1 div.sk-parallel-item:only-child::after {width: 0;}#sk-container-id-1 div.sk-dashed-wrapped {border: 1px dashed gray;margin: 0 0.4em 0.5em 0.4em;box-sizing: border-box;padding-bottom: 0.4em;background-color: white;}#sk-container-id-1 div.sk-label label {font-family: monospace;font-weight: bold;display: inline-block;line-height: 1.2em;}#sk-container-id-1 div.sk-label-container {text-align: center;}#sk-container-id-1 div.sk-container {/* jupyter's `normalize.less` sets `[hidden] { display: none; }` but bootstrap.min.css set `[hidden] { display: none !important; }` so we also need the `!important` here to be able to override the default hidden behavior on the sphinx rendered scikit-learn.org. See: https://github.com/scikit-learn/scikit-learn/issues/21755 */display: inline-block !important;position: relative;}#sk-container-id-1 div.sk-text-repr-fallback {display: none;}</style><div id=\"sk-container-id-1\" class=\"sk-top-container\"><div class=\"sk-text-repr-fallback\"><pre>GridSearchCV(cv=5, estimator=RandomForestClassifier(),\n",
       "             param_grid={&#x27;max_depth&#x27;: [10, 12, 14, 15],\n",
       "                         &#x27;n_estimators&#x27;: [30, 32, 35, 37, 40]})</pre><b>In a Jupyter environment, please rerun this cell to show the HTML representation or trust the notebook. <br />On GitHub, the HTML representation is unable to render, please try loading this page with nbviewer.org.</b></div><div class=\"sk-container\" hidden><div class=\"sk-item sk-dashed-wrapped\"><div class=\"sk-label-container\"><div class=\"sk-label sk-toggleable\"><input class=\"sk-toggleable__control sk-hidden--visually\" id=\"sk-estimator-id-1\" type=\"checkbox\" ><label for=\"sk-estimator-id-1\" class=\"sk-toggleable__label sk-toggleable__label-arrow\">GridSearchCV</label><div class=\"sk-toggleable__content\"><pre>GridSearchCV(cv=5, estimator=RandomForestClassifier(),\n",
       "             param_grid={&#x27;max_depth&#x27;: [10, 12, 14, 15],\n",
       "                         &#x27;n_estimators&#x27;: [30, 32, 35, 37, 40]})</pre></div></div></div><div class=\"sk-parallel\"><div class=\"sk-parallel-item\"><div class=\"sk-item\"><div class=\"sk-label-container\"><div class=\"sk-label sk-toggleable\"><input class=\"sk-toggleable__control sk-hidden--visually\" id=\"sk-estimator-id-2\" type=\"checkbox\" ><label for=\"sk-estimator-id-2\" class=\"sk-toggleable__label sk-toggleable__label-arrow\">estimator: RandomForestClassifier</label><div class=\"sk-toggleable__content\"><pre>RandomForestClassifier()</pre></div></div></div><div class=\"sk-serial\"><div class=\"sk-item\"><div class=\"sk-estimator sk-toggleable\"><input class=\"sk-toggleable__control sk-hidden--visually\" id=\"sk-estimator-id-3\" type=\"checkbox\" ><label for=\"sk-estimator-id-3\" class=\"sk-toggleable__label sk-toggleable__label-arrow\">RandomForestClassifier</label><div class=\"sk-toggleable__content\"><pre>RandomForestClassifier()</pre></div></div></div></div></div></div></div></div></div></div>"
      ],
      "text/plain": [
       "GridSearchCV(cv=5, estimator=RandomForestClassifier(),\n",
       "             param_grid={'max_depth': [10, 12, 14, 15],\n",
       "                         'n_estimators': [30, 32, 35, 37, 40]})"
      ]
     },
     "execution_count": 25,
     "metadata": {},
     "output_type": "execute_result"
    }
   ],
   "source": [
    "grid_search_cv_clf.fit(X_train, y_train)"
   ]
  },
  {
   "cell_type": "code",
   "execution_count": 26,
   "id": "68e359bf",
   "metadata": {
    "execution": {
     "iopub.execute_input": "2024-10-26T10:03:43.538820Z",
     "iopub.status.busy": "2024-10-26T10:03:43.538415Z",
     "iopub.status.idle": "2024-10-26T10:03:43.546109Z",
     "shell.execute_reply": "2024-10-26T10:03:43.544992Z"
    },
    "papermill": {
     "duration": 0.031025,
     "end_time": "2024-10-26T10:03:43.548392",
     "exception": false,
     "start_time": "2024-10-26T10:03:43.517367",
     "status": "completed"
    },
    "tags": []
   },
   "outputs": [
    {
     "data": {
      "text/plain": [
       "{'max_depth': 12, 'n_estimators': 40}"
      ]
     },
     "execution_count": 26,
     "metadata": {},
     "output_type": "execute_result"
    }
   ],
   "source": [
    "grid_search_cv_clf.best_params_"
   ]
  },
  {
   "cell_type": "code",
   "execution_count": 27,
   "id": "d88e9e08",
   "metadata": {
    "execution": {
     "iopub.execute_input": "2024-10-26T10:03:43.590742Z",
     "iopub.status.busy": "2024-10-26T10:03:43.590325Z",
     "iopub.status.idle": "2024-10-26T10:03:43.602018Z",
     "shell.execute_reply": "2024-10-26T10:03:43.600945Z"
    },
    "papermill": {
     "duration": 0.035576,
     "end_time": "2024-10-26T10:03:43.604188",
     "exception": false,
     "start_time": "2024-10-26T10:03:43.568612",
     "status": "completed"
    },
    "tags": []
   },
   "outputs": [
    {
     "data": {
      "text/plain": [
       "array([0.07565382, 0.13152394, 0.20357106, 0.14087776, 0.02591625,\n",
       "       0.01988241, 0.18776941, 0.14326557, 0.02108657, 0.0504532 ])"
      ]
     },
     "execution_count": 27,
     "metadata": {},
     "output_type": "execute_result"
    }
   ],
   "source": [
    "grid_search_cv_clf.best_estimator_.feature_importances_"
   ]
  },
  {
   "cell_type": "code",
   "execution_count": 28,
   "id": "bb551f8e",
   "metadata": {
    "execution": {
     "iopub.execute_input": "2024-10-26T10:03:43.645712Z",
     "iopub.status.busy": "2024-10-26T10:03:43.645308Z",
     "iopub.status.idle": "2024-10-26T10:03:43.660960Z",
     "shell.execute_reply": "2024-10-26T10:03:43.659792Z"
    },
    "papermill": {
     "duration": 0.039222,
     "end_time": "2024-10-26T10:03:43.663339",
     "exception": false,
     "start_time": "2024-10-26T10:03:43.624117",
     "status": "completed"
    },
    "tags": []
   },
   "outputs": [
    {
     "data": {
      "text/plain": [
       "0.8435754189944135"
      ]
     },
     "execution_count": 28,
     "metadata": {},
     "output_type": "execute_result"
    }
   ],
   "source": [
    "grid_search_cv_clf.best_estimator_.score(X_test, y_test)"
   ]
  },
  {
   "cell_type": "code",
   "execution_count": 29,
   "id": "fa4fc1ba",
   "metadata": {
    "execution": {
     "iopub.execute_input": "2024-10-26T10:03:43.705456Z",
     "iopub.status.busy": "2024-10-26T10:03:43.705029Z",
     "iopub.status.idle": "2024-10-26T10:03:43.725481Z",
     "shell.execute_reply": "2024-10-26T10:03:43.724281Z"
    },
    "papermill": {
     "duration": 0.044583,
     "end_time": "2024-10-26T10:03:43.728141",
     "exception": false,
     "start_time": "2024-10-26T10:03:43.683558",
     "status": "completed"
    },
    "tags": []
   },
   "outputs": [
    {
     "data": {
      "text/html": [
       "<div>\n",
       "<style scoped>\n",
       "    .dataframe tbody tr th:only-of-type {\n",
       "        vertical-align: middle;\n",
       "    }\n",
       "\n",
       "    .dataframe tbody tr th {\n",
       "        vertical-align: top;\n",
       "    }\n",
       "\n",
       "    .dataframe thead th {\n",
       "        text-align: right;\n",
       "    }\n",
       "</style>\n",
       "<table border=\"1\" class=\"dataframe\">\n",
       "  <thead>\n",
       "    <tr style=\"text-align: right;\">\n",
       "      <th></th>\n",
       "      <th>Survived</th>\n",
       "      <th>Pclass</th>\n",
       "      <th>Name</th>\n",
       "      <th>Sex</th>\n",
       "      <th>Age</th>\n",
       "      <th>SibSp</th>\n",
       "      <th>Parch</th>\n",
       "      <th>Ticket</th>\n",
       "      <th>Fare</th>\n",
       "      <th>Embarked</th>\n",
       "      <th>FamilySize</th>\n",
       "    </tr>\n",
       "  </thead>\n",
       "  <tbody>\n",
       "    <tr>\n",
       "      <th>Survived</th>\n",
       "      <td>1.000000</td>\n",
       "      <td>-0.338481</td>\n",
       "      <td>-0.218467</td>\n",
       "      <td>-0.543351</td>\n",
       "      <td>-0.064910</td>\n",
       "      <td>-0.035322</td>\n",
       "      <td>0.081629</td>\n",
       "      <td>-0.164549</td>\n",
       "      <td>0.257307</td>\n",
       "      <td>-0.167675</td>\n",
       "      <td>0.016639</td>\n",
       "    </tr>\n",
       "    <tr>\n",
       "      <th>Pclass</th>\n",
       "      <td>-0.338481</td>\n",
       "      <td>1.000000</td>\n",
       "      <td>-0.002840</td>\n",
       "      <td>0.131900</td>\n",
       "      <td>-0.339898</td>\n",
       "      <td>0.083081</td>\n",
       "      <td>0.018443</td>\n",
       "      <td>0.319869</td>\n",
       "      <td>-0.549500</td>\n",
       "      <td>0.162098</td>\n",
       "      <td>0.065997</td>\n",
       "    </tr>\n",
       "    <tr>\n",
       "      <th>Name</th>\n",
       "      <td>-0.218467</td>\n",
       "      <td>-0.002840</td>\n",
       "      <td>1.000000</td>\n",
       "      <td>0.306887</td>\n",
       "      <td>0.297124</td>\n",
       "      <td>-0.230540</td>\n",
       "      <td>-0.162928</td>\n",
       "      <td>-0.011925</td>\n",
       "      <td>-0.088462</td>\n",
       "      <td>0.049395</td>\n",
       "      <td>-0.238962</td>\n",
       "    </tr>\n",
       "    <tr>\n",
       "      <th>Sex</th>\n",
       "      <td>-0.543351</td>\n",
       "      <td>0.131900</td>\n",
       "      <td>0.306887</td>\n",
       "      <td>1.000000</td>\n",
       "      <td>0.081163</td>\n",
       "      <td>-0.114631</td>\n",
       "      <td>-0.245489</td>\n",
       "      <td>0.059372</td>\n",
       "      <td>-0.182333</td>\n",
       "      <td>0.108262</td>\n",
       "      <td>-0.200988</td>\n",
       "    </tr>\n",
       "    <tr>\n",
       "      <th>Age</th>\n",
       "      <td>-0.064910</td>\n",
       "      <td>-0.339898</td>\n",
       "      <td>0.297124</td>\n",
       "      <td>0.081163</td>\n",
       "      <td>1.000000</td>\n",
       "      <td>-0.233296</td>\n",
       "      <td>-0.172482</td>\n",
       "      <td>-0.070382</td>\n",
       "      <td>0.096688</td>\n",
       "      <td>-0.018754</td>\n",
       "      <td>-0.245619</td>\n",
       "    </tr>\n",
       "    <tr>\n",
       "      <th>SibSp</th>\n",
       "      <td>-0.035322</td>\n",
       "      <td>0.083081</td>\n",
       "      <td>-0.230540</td>\n",
       "      <td>-0.114631</td>\n",
       "      <td>-0.233296</td>\n",
       "      <td>1.000000</td>\n",
       "      <td>0.414838</td>\n",
       "      <td>0.079461</td>\n",
       "      <td>0.159651</td>\n",
       "      <td>0.068230</td>\n",
       "      <td>0.890712</td>\n",
       "    </tr>\n",
       "    <tr>\n",
       "      <th>Parch</th>\n",
       "      <td>0.081629</td>\n",
       "      <td>0.018443</td>\n",
       "      <td>-0.162928</td>\n",
       "      <td>-0.245489</td>\n",
       "      <td>-0.172482</td>\n",
       "      <td>0.414838</td>\n",
       "      <td>1.000000</td>\n",
       "      <td>0.020003</td>\n",
       "      <td>0.216225</td>\n",
       "      <td>0.039798</td>\n",
       "      <td>0.783111</td>\n",
       "    </tr>\n",
       "    <tr>\n",
       "      <th>Ticket</th>\n",
       "      <td>-0.164549</td>\n",
       "      <td>0.319869</td>\n",
       "      <td>-0.011925</td>\n",
       "      <td>0.059372</td>\n",
       "      <td>-0.070382</td>\n",
       "      <td>0.079461</td>\n",
       "      <td>0.020003</td>\n",
       "      <td>1.000000</td>\n",
       "      <td>-0.013885</td>\n",
       "      <td>-0.001729</td>\n",
       "      <td>0.064302</td>\n",
       "    </tr>\n",
       "    <tr>\n",
       "      <th>Fare</th>\n",
       "      <td>0.257307</td>\n",
       "      <td>-0.549500</td>\n",
       "      <td>-0.088462</td>\n",
       "      <td>-0.182333</td>\n",
       "      <td>0.096688</td>\n",
       "      <td>0.159651</td>\n",
       "      <td>0.216225</td>\n",
       "      <td>-0.013885</td>\n",
       "      <td>1.000000</td>\n",
       "      <td>-0.224719</td>\n",
       "      <td>0.217138</td>\n",
       "    </tr>\n",
       "    <tr>\n",
       "      <th>Embarked</th>\n",
       "      <td>-0.167675</td>\n",
       "      <td>0.162098</td>\n",
       "      <td>0.049395</td>\n",
       "      <td>0.108262</td>\n",
       "      <td>-0.018754</td>\n",
       "      <td>0.068230</td>\n",
       "      <td>0.039798</td>\n",
       "      <td>-0.001729</td>\n",
       "      <td>-0.224719</td>\n",
       "      <td>1.000000</td>\n",
       "      <td>0.066516</td>\n",
       "    </tr>\n",
       "    <tr>\n",
       "      <th>FamilySize</th>\n",
       "      <td>0.016639</td>\n",
       "      <td>0.065997</td>\n",
       "      <td>-0.238962</td>\n",
       "      <td>-0.200988</td>\n",
       "      <td>-0.245619</td>\n",
       "      <td>0.890712</td>\n",
       "      <td>0.783111</td>\n",
       "      <td>0.064302</td>\n",
       "      <td>0.217138</td>\n",
       "      <td>0.066516</td>\n",
       "      <td>1.000000</td>\n",
       "    </tr>\n",
       "  </tbody>\n",
       "</table>\n",
       "</div>"
      ],
      "text/plain": [
       "            Survived    Pclass      Name       Sex       Age     SibSp  \\\n",
       "Survived    1.000000 -0.338481 -0.218467 -0.543351 -0.064910 -0.035322   \n",
       "Pclass     -0.338481  1.000000 -0.002840  0.131900 -0.339898  0.083081   \n",
       "Name       -0.218467 -0.002840  1.000000  0.306887  0.297124 -0.230540   \n",
       "Sex        -0.543351  0.131900  0.306887  1.000000  0.081163 -0.114631   \n",
       "Age        -0.064910 -0.339898  0.297124  0.081163  1.000000 -0.233296   \n",
       "SibSp      -0.035322  0.083081 -0.230540 -0.114631 -0.233296  1.000000   \n",
       "Parch       0.081629  0.018443 -0.162928 -0.245489 -0.172482  0.414838   \n",
       "Ticket     -0.164549  0.319869 -0.011925  0.059372 -0.070382  0.079461   \n",
       "Fare        0.257307 -0.549500 -0.088462 -0.182333  0.096688  0.159651   \n",
       "Embarked   -0.167675  0.162098  0.049395  0.108262 -0.018754  0.068230   \n",
       "FamilySize  0.016639  0.065997 -0.238962 -0.200988 -0.245619  0.890712   \n",
       "\n",
       "               Parch    Ticket      Fare  Embarked  FamilySize  \n",
       "Survived    0.081629 -0.164549  0.257307 -0.167675    0.016639  \n",
       "Pclass      0.018443  0.319869 -0.549500  0.162098    0.065997  \n",
       "Name       -0.162928 -0.011925 -0.088462  0.049395   -0.238962  \n",
       "Sex        -0.245489  0.059372 -0.182333  0.108262   -0.200988  \n",
       "Age        -0.172482 -0.070382  0.096688 -0.018754   -0.245619  \n",
       "SibSp       0.414838  0.079461  0.159651  0.068230    0.890712  \n",
       "Parch       1.000000  0.020003  0.216225  0.039798    0.783111  \n",
       "Ticket      0.020003  1.000000 -0.013885 -0.001729    0.064302  \n",
       "Fare        0.216225 -0.013885  1.000000 -0.224719    0.217138  \n",
       "Embarked    0.039798 -0.001729 -0.224719  1.000000    0.066516  \n",
       "FamilySize  0.783111  0.064302  0.217138  0.066516    1.000000  "
      ]
     },
     "execution_count": 29,
     "metadata": {},
     "output_type": "execute_result"
    }
   ],
   "source": [
    "df.corr()"
   ]
  },
  {
   "cell_type": "markdown",
   "id": "e911b419",
   "metadata": {
    "papermill": {
     "duration": 0.020264,
     "end_time": "2024-10-26T10:03:43.768885",
     "exception": false,
     "start_time": "2024-10-26T10:03:43.748621",
     "status": "completed"
    },
    "tags": []
   },
   "source": [
    "# Плохо, что имеется корреляция между Parch, SibSp и FamilySize, так как это мешает RandomForest"
   ]
  },
  {
   "cell_type": "code",
   "execution_count": 30,
   "id": "5b0d5179",
   "metadata": {
    "execution": {
     "iopub.execute_input": "2024-10-26T10:03:43.812627Z",
     "iopub.status.busy": "2024-10-26T10:03:43.812182Z",
     "iopub.status.idle": "2024-10-26T10:03:43.828499Z",
     "shell.execute_reply": "2024-10-26T10:03:43.827438Z"
    },
    "papermill": {
     "duration": 0.041005,
     "end_time": "2024-10-26T10:03:43.830932",
     "exception": false,
     "start_time": "2024-10-26T10:03:43.789927",
     "status": "completed"
    },
    "tags": []
   },
   "outputs": [
    {
     "data": {
      "text/html": [
       "<div>\n",
       "<style scoped>\n",
       "    .dataframe tbody tr th:only-of-type {\n",
       "        vertical-align: middle;\n",
       "    }\n",
       "\n",
       "    .dataframe tbody tr th {\n",
       "        vertical-align: top;\n",
       "    }\n",
       "\n",
       "    .dataframe thead th {\n",
       "        text-align: right;\n",
       "    }\n",
       "</style>\n",
       "<table border=\"1\" class=\"dataframe\">\n",
       "  <thead>\n",
       "    <tr style=\"text-align: right;\">\n",
       "      <th></th>\n",
       "      <th>features</th>\n",
       "      <th>feature_importances</th>\n",
       "    </tr>\n",
       "  </thead>\n",
       "  <tbody>\n",
       "    <tr>\n",
       "      <th>5</th>\n",
       "      <td>Parch</td>\n",
       "      <td>0.019882</td>\n",
       "    </tr>\n",
       "    <tr>\n",
       "      <th>8</th>\n",
       "      <td>Embarked</td>\n",
       "      <td>0.021087</td>\n",
       "    </tr>\n",
       "    <tr>\n",
       "      <th>4</th>\n",
       "      <td>SibSp</td>\n",
       "      <td>0.025916</td>\n",
       "    </tr>\n",
       "    <tr>\n",
       "      <th>9</th>\n",
       "      <td>FamilySize</td>\n",
       "      <td>0.050453</td>\n",
       "    </tr>\n",
       "    <tr>\n",
       "      <th>0</th>\n",
       "      <td>Pclass</td>\n",
       "      <td>0.075654</td>\n",
       "    </tr>\n",
       "    <tr>\n",
       "      <th>1</th>\n",
       "      <td>Name</td>\n",
       "      <td>0.131524</td>\n",
       "    </tr>\n",
       "    <tr>\n",
       "      <th>3</th>\n",
       "      <td>Age</td>\n",
       "      <td>0.140878</td>\n",
       "    </tr>\n",
       "    <tr>\n",
       "      <th>7</th>\n",
       "      <td>Fare</td>\n",
       "      <td>0.143266</td>\n",
       "    </tr>\n",
       "    <tr>\n",
       "      <th>6</th>\n",
       "      <td>Ticket</td>\n",
       "      <td>0.187769</td>\n",
       "    </tr>\n",
       "    <tr>\n",
       "      <th>2</th>\n",
       "      <td>Sex</td>\n",
       "      <td>0.203571</td>\n",
       "    </tr>\n",
       "  </tbody>\n",
       "</table>\n",
       "</div>"
      ],
      "text/plain": [
       "     features  feature_importances\n",
       "5       Parch             0.019882\n",
       "8    Embarked             0.021087\n",
       "4       SibSp             0.025916\n",
       "9  FamilySize             0.050453\n",
       "0      Pclass             0.075654\n",
       "1        Name             0.131524\n",
       "3         Age             0.140878\n",
       "7        Fare             0.143266\n",
       "6      Ticket             0.187769\n",
       "2         Sex             0.203571"
      ]
     },
     "execution_count": 30,
     "metadata": {},
     "output_type": "execute_result"
    }
   ],
   "source": [
    "feature_importance_df = pd.DataFrame({\"features\":list(X_train),\n",
    "                                      \"feature_importances\": grid_search_cv_clf.best_estimator_.feature_importances_})\n",
    "feature_importance_df.sort_values(\"feature_importances\", ascending=True)"
   ]
  },
  {
   "cell_type": "markdown",
   "id": "aee52555",
   "metadata": {
    "papermill": {
     "duration": 0.020062,
     "end_time": "2024-10-26T10:03:43.871819",
     "exception": false,
     "start_time": "2024-10-26T10:03:43.851757",
     "status": "completed"
    },
    "tags": []
   },
   "source": [
    "# Попробуем построить RandomForest без Parch, Embarked, SibSp, так как это самые незначительные показатели, а так же мы исключим корреляцию"
   ]
  },
  {
   "cell_type": "code",
   "execution_count": 31,
   "id": "75f6f304",
   "metadata": {
    "execution": {
     "iopub.execute_input": "2024-10-26T10:03:43.914938Z",
     "iopub.status.busy": "2024-10-26T10:03:43.914517Z",
     "iopub.status.idle": "2024-10-26T10:03:47.779779Z",
     "shell.execute_reply": "2024-10-26T10:03:47.778594Z"
    },
    "papermill": {
     "duration": 3.889731,
     "end_time": "2024-10-26T10:03:47.782199",
     "exception": false,
     "start_time": "2024-10-26T10:03:43.892468",
     "status": "completed"
    },
    "tags": []
   },
   "outputs": [
    {
     "data": {
      "text/plain": [
       "{'max_depth': 10, 'n_estimators': 17}"
      ]
     },
     "execution_count": 31,
     "metadata": {},
     "output_type": "execute_result"
    }
   ],
   "source": [
    "X = df.drop(columns=['Survived', 'Parch', 'Embarked', 'SibSp'])\n",
    "y = df['Survived']\n",
    "X_train, X_test, y_train, y_test = train_test_split(X, y, test_size=0.2, random_state=42)\n",
    "\n",
    "clf_rf = RandomForestClassifier()\n",
    "parameters = {\"n_estimators\": [17,19,21,23], \"max_depth\": [7,9,10,11]}\n",
    "grid_search_cv_clf = GridSearchCV(clf_rf, parameters, cv = 5)\n",
    "grid_search_cv_clf.fit(X_train, y_train)\n",
    "grid_search_cv_clf.best_params_"
   ]
  },
  {
   "cell_type": "code",
   "execution_count": 32,
   "id": "de6a2de0",
   "metadata": {
    "execution": {
     "iopub.execute_input": "2024-10-26T10:03:47.825969Z",
     "iopub.status.busy": "2024-10-26T10:03:47.825531Z",
     "iopub.status.idle": "2024-10-26T10:03:47.834456Z",
     "shell.execute_reply": "2024-10-26T10:03:47.833307Z"
    },
    "papermill": {
     "duration": 0.034002,
     "end_time": "2024-10-26T10:03:47.836748",
     "exception": false,
     "start_time": "2024-10-26T10:03:47.802746",
     "status": "completed"
    },
    "tags": []
   },
   "outputs": [
    {
     "data": {
      "text/plain": [
       "array([0.0771241 , 0.13266774, 0.21415043, 0.16559476, 0.16434855,\n",
       "       0.16920211, 0.07691231])"
      ]
     },
     "execution_count": 32,
     "metadata": {},
     "output_type": "execute_result"
    }
   ],
   "source": [
    "grid_search_cv_clf.best_estimator_.feature_importances_"
   ]
  },
  {
   "cell_type": "code",
   "execution_count": 33,
   "id": "44c689e9",
   "metadata": {
    "execution": {
     "iopub.execute_input": "2024-10-26T10:03:47.880534Z",
     "iopub.status.busy": "2024-10-26T10:03:47.879735Z",
     "iopub.status.idle": "2024-10-26T10:03:47.892573Z",
     "shell.execute_reply": "2024-10-26T10:03:47.891413Z"
    },
    "papermill": {
     "duration": 0.037429,
     "end_time": "2024-10-26T10:03:47.895095",
     "exception": false,
     "start_time": "2024-10-26T10:03:47.857666",
     "status": "completed"
    },
    "tags": []
   },
   "outputs": [
    {
     "data": {
      "text/plain": [
       "0.7932960893854749"
      ]
     },
     "execution_count": 33,
     "metadata": {},
     "output_type": "execute_result"
    }
   ],
   "source": [
    "grid_search_cv_clf.best_estimator_.score(X_test, y_test)"
   ]
  },
  {
   "cell_type": "code",
   "execution_count": 34,
   "id": "110872c0",
   "metadata": {
    "execution": {
     "iopub.execute_input": "2024-10-26T10:03:47.940242Z",
     "iopub.status.busy": "2024-10-26T10:03:47.939181Z",
     "iopub.status.idle": "2024-10-26T10:03:49.586220Z",
     "shell.execute_reply": "2024-10-26T10:03:49.584923Z"
    },
    "papermill": {
     "duration": 1.672748,
     "end_time": "2024-10-26T10:03:49.589059",
     "exception": false,
     "start_time": "2024-10-26T10:03:47.916311",
     "status": "completed"
    },
    "tags": []
   },
   "outputs": [
    {
     "data": {
      "text/plain": [
       "{'max_depth': 5, 'n_estimators': 13}"
      ]
     },
     "execution_count": 34,
     "metadata": {},
     "output_type": "execute_result"
    }
   ],
   "source": [
    "X = df.drop(columns=['Survived', 'Parch', 'SibSp'])\n",
    "y = df['Survived']\n",
    "X_train, X_test, y_train, y_test = train_test_split(X, y, test_size=0.2, random_state=42)\n",
    "\n",
    "clf_rf = RandomForestClassifier()\n",
    "parameters = {\"n_estimators\": [7,9,11,13], \"max_depth\": [5,7,9]}\n",
    "grid_search_cv_clf = GridSearchCV(clf_rf, parameters, cv = 5)\n",
    "grid_search_cv_clf.fit(X_train, y_train)\n",
    "grid_search_cv_clf.best_params_"
   ]
  },
  {
   "cell_type": "code",
   "execution_count": 35,
   "id": "5f9fc157",
   "metadata": {
    "execution": {
     "iopub.execute_input": "2024-10-26T10:03:49.633299Z",
     "iopub.status.busy": "2024-10-26T10:03:49.632845Z",
     "iopub.status.idle": "2024-10-26T10:03:49.645395Z",
     "shell.execute_reply": "2024-10-26T10:03:49.644430Z"
    },
    "papermill": {
     "duration": 0.037324,
     "end_time": "2024-10-26T10:03:49.647759",
     "exception": false,
     "start_time": "2024-10-26T10:03:49.610435",
     "status": "completed"
    },
    "tags": []
   },
   "outputs": [
    {
     "data": {
      "text/plain": [
       "0.8044692737430168"
      ]
     },
     "execution_count": 35,
     "metadata": {},
     "output_type": "execute_result"
    }
   ],
   "source": [
    "grid_search_cv_clf.best_estimator_.score(X_test, y_test)"
   ]
  },
  {
   "cell_type": "code",
   "execution_count": 36,
   "id": "ffb6fbbc",
   "metadata": {
    "execution": {
     "iopub.execute_input": "2024-10-26T10:03:49.708887Z",
     "iopub.status.busy": "2024-10-26T10:03:49.708334Z",
     "iopub.status.idle": "2024-10-26T10:03:52.831729Z",
     "shell.execute_reply": "2024-10-26T10:03:52.830470Z"
    },
    "papermill": {
     "duration": 3.156439,
     "end_time": "2024-10-26T10:03:52.834256",
     "exception": false,
     "start_time": "2024-10-26T10:03:49.677817",
     "status": "completed"
    },
    "tags": []
   },
   "outputs": [
    {
     "data": {
      "text/plain": [
       "{'max_depth': 11, 'n_estimators': 14}"
      ]
     },
     "execution_count": 36,
     "metadata": {},
     "output_type": "execute_result"
    }
   ],
   "source": [
    "X = df.drop(columns=['Survived', 'SibSp'])\n",
    "y = df['Survived']\n",
    "X_train, X_test, y_train, y_test = train_test_split(X, y, test_size=0.2, random_state=42)\n",
    "\n",
    "clf_rf = RandomForestClassifier()\n",
    "parameters = {\"n_estimators\": [12,14,16,17], \"max_depth\": [8,9,10,11]}\n",
    "grid_search_cv_clf = GridSearchCV(clf_rf, parameters, cv = 5)\n",
    "grid_search_cv_clf.fit(X_train, y_train)\n",
    "grid_search_cv_clf.best_params_"
   ]
  },
  {
   "cell_type": "code",
   "execution_count": 37,
   "id": "def005c8",
   "metadata": {
    "execution": {
     "iopub.execute_input": "2024-10-26T10:03:52.879805Z",
     "iopub.status.busy": "2024-10-26T10:03:52.879368Z",
     "iopub.status.idle": "2024-10-26T10:03:52.892440Z",
     "shell.execute_reply": "2024-10-26T10:03:52.891344Z"
    },
    "papermill": {
     "duration": 0.039349,
     "end_time": "2024-10-26T10:03:52.894738",
     "exception": false,
     "start_time": "2024-10-26T10:03:52.855389",
     "status": "completed"
    },
    "tags": []
   },
   "outputs": [
    {
     "data": {
      "text/plain": [
       "0.8435754189944135"
      ]
     },
     "execution_count": 37,
     "metadata": {},
     "output_type": "execute_result"
    }
   ],
   "source": [
    "grid_search_cv_clf.best_estimator_.score(X_test, y_test)"
   ]
  },
  {
   "cell_type": "markdown",
   "id": "c4a4b1d5",
   "metadata": {
    "papermill": {
     "duration": 0.022076,
     "end_time": "2024-10-26T10:03:52.938596",
     "exception": false,
     "start_time": "2024-10-26T10:03:52.916520",
     "status": "completed"
    },
    "tags": []
   },
   "source": [
    "Итого:\n",
    "*     С учетом всех столбцов                   0.8324 0.8100 0.8268 0.8268 0.8379      0.82678\n",
    "*     **Без 'Parch', 'Embarked', 'SibSp'       0.8603 0.8324 0.8044 0.8100 0.8491      0.83124**\n",
    "*     Без 'Embarked', 'SibSp'                  0.8324 0.8044 0.8212 0.8044 0.7877      0.81002\n",
    "*     Без 'SibSp'                              0.8156 0.8437 0.8100 0.8100 0.8156      0.81898"
   ]
  },
  {
   "cell_type": "markdown",
   "id": "32e158c8",
   "metadata": {
    "papermill": {
     "duration": 0.021244,
     "end_time": "2024-10-26T10:03:52.981952",
     "exception": false,
     "start_time": "2024-10-26T10:03:52.960708",
     "status": "completed"
    },
    "tags": []
   },
   "source": [
    "# Из-за рандомности распределения данных, необходимо смотреть на несколько прогонов. По итогу пяти лучше всех себя показал вариант **Без 'Parch', 'Embarked', 'SibSp'**"
   ]
  },
  {
   "cell_type": "code",
   "execution_count": 38,
   "id": "fde744ce",
   "metadata": {
    "execution": {
     "iopub.execute_input": "2024-10-26T10:03:53.026879Z",
     "iopub.status.busy": "2024-10-26T10:03:53.025807Z",
     "iopub.status.idle": "2024-10-26T10:03:53.044216Z",
     "shell.execute_reply": "2024-10-26T10:03:53.043001Z"
    },
    "papermill": {
     "duration": 0.043745,
     "end_time": "2024-10-26T10:03:53.046937",
     "exception": false,
     "start_time": "2024-10-26T10:03:53.003192",
     "status": "completed"
    },
    "tags": []
   },
   "outputs": [
    {
     "data": {
      "text/html": [
       "<div>\n",
       "<style scoped>\n",
       "    .dataframe tbody tr th:only-of-type {\n",
       "        vertical-align: middle;\n",
       "    }\n",
       "\n",
       "    .dataframe tbody tr th {\n",
       "        vertical-align: top;\n",
       "    }\n",
       "\n",
       "    .dataframe thead th {\n",
       "        text-align: right;\n",
       "    }\n",
       "</style>\n",
       "<table border=\"1\" class=\"dataframe\">\n",
       "  <thead>\n",
       "    <tr style=\"text-align: right;\">\n",
       "      <th></th>\n",
       "      <th>Survived</th>\n",
       "      <th>Pclass</th>\n",
       "      <th>Name</th>\n",
       "      <th>Sex</th>\n",
       "      <th>Age</th>\n",
       "      <th>SibSp</th>\n",
       "      <th>Parch</th>\n",
       "      <th>Ticket</th>\n",
       "      <th>Fare</th>\n",
       "      <th>FamilySize</th>\n",
       "    </tr>\n",
       "  </thead>\n",
       "  <tbody>\n",
       "    <tr>\n",
       "      <th>0</th>\n",
       "      <td>0</td>\n",
       "      <td>3</td>\n",
       "      <td>19</td>\n",
       "      <td>1</td>\n",
       "      <td>22.0</td>\n",
       "      <td>1</td>\n",
       "      <td>0</td>\n",
       "      <td>523</td>\n",
       "      <td>7.2500</td>\n",
       "      <td>1</td>\n",
       "    </tr>\n",
       "    <tr>\n",
       "      <th>1</th>\n",
       "      <td>1</td>\n",
       "      <td>1</td>\n",
       "      <td>20</td>\n",
       "      <td>0</td>\n",
       "      <td>38.0</td>\n",
       "      <td>1</td>\n",
       "      <td>0</td>\n",
       "      <td>596</td>\n",
       "      <td>71.2833</td>\n",
       "      <td>1</td>\n",
       "    </tr>\n",
       "    <tr>\n",
       "      <th>2</th>\n",
       "      <td>1</td>\n",
       "      <td>3</td>\n",
       "      <td>14</td>\n",
       "      <td>0</td>\n",
       "      <td>26.0</td>\n",
       "      <td>0</td>\n",
       "      <td>0</td>\n",
       "      <td>669</td>\n",
       "      <td>7.9250</td>\n",
       "      <td>0</td>\n",
       "    </tr>\n",
       "    <tr>\n",
       "      <th>3</th>\n",
       "      <td>1</td>\n",
       "      <td>1</td>\n",
       "      <td>20</td>\n",
       "      <td>0</td>\n",
       "      <td>35.0</td>\n",
       "      <td>1</td>\n",
       "      <td>0</td>\n",
       "      <td>49</td>\n",
       "      <td>53.1000</td>\n",
       "      <td>1</td>\n",
       "    </tr>\n",
       "    <tr>\n",
       "      <th>4</th>\n",
       "      <td>0</td>\n",
       "      <td>3</td>\n",
       "      <td>19</td>\n",
       "      <td>1</td>\n",
       "      <td>35.0</td>\n",
       "      <td>0</td>\n",
       "      <td>0</td>\n",
       "      <td>472</td>\n",
       "      <td>8.0500</td>\n",
       "      <td>0</td>\n",
       "    </tr>\n",
       "    <tr>\n",
       "      <th>...</th>\n",
       "      <td>...</td>\n",
       "      <td>...</td>\n",
       "      <td>...</td>\n",
       "      <td>...</td>\n",
       "      <td>...</td>\n",
       "      <td>...</td>\n",
       "      <td>...</td>\n",
       "      <td>...</td>\n",
       "      <td>...</td>\n",
       "      <td>...</td>\n",
       "    </tr>\n",
       "    <tr>\n",
       "      <th>886</th>\n",
       "      <td>0</td>\n",
       "      <td>2</td>\n",
       "      <td>17</td>\n",
       "      <td>1</td>\n",
       "      <td>27.0</td>\n",
       "      <td>0</td>\n",
       "      <td>0</td>\n",
       "      <td>101</td>\n",
       "      <td>13.0000</td>\n",
       "      <td>0</td>\n",
       "    </tr>\n",
       "    <tr>\n",
       "      <th>887</th>\n",
       "      <td>1</td>\n",
       "      <td>1</td>\n",
       "      <td>14</td>\n",
       "      <td>0</td>\n",
       "      <td>19.0</td>\n",
       "      <td>0</td>\n",
       "      <td>0</td>\n",
       "      <td>14</td>\n",
       "      <td>30.0000</td>\n",
       "      <td>0</td>\n",
       "    </tr>\n",
       "    <tr>\n",
       "      <th>888</th>\n",
       "      <td>0</td>\n",
       "      <td>3</td>\n",
       "      <td>14</td>\n",
       "      <td>0</td>\n",
       "      <td>28.0</td>\n",
       "      <td>1</td>\n",
       "      <td>2</td>\n",
       "      <td>675</td>\n",
       "      <td>23.4500</td>\n",
       "      <td>3</td>\n",
       "    </tr>\n",
       "    <tr>\n",
       "      <th>889</th>\n",
       "      <td>1</td>\n",
       "      <td>1</td>\n",
       "      <td>19</td>\n",
       "      <td>1</td>\n",
       "      <td>26.0</td>\n",
       "      <td>0</td>\n",
       "      <td>0</td>\n",
       "      <td>8</td>\n",
       "      <td>30.0000</td>\n",
       "      <td>0</td>\n",
       "    </tr>\n",
       "    <tr>\n",
       "      <th>890</th>\n",
       "      <td>0</td>\n",
       "      <td>3</td>\n",
       "      <td>19</td>\n",
       "      <td>1</td>\n",
       "      <td>32.0</td>\n",
       "      <td>0</td>\n",
       "      <td>0</td>\n",
       "      <td>466</td>\n",
       "      <td>7.7500</td>\n",
       "      <td>0</td>\n",
       "    </tr>\n",
       "  </tbody>\n",
       "</table>\n",
       "<p>891 rows × 10 columns</p>\n",
       "</div>"
      ],
      "text/plain": [
       "     Survived  Pclass  Name  Sex   Age  SibSp  Parch  Ticket     Fare  \\\n",
       "0           0       3    19    1  22.0      1      0     523   7.2500   \n",
       "1           1       1    20    0  38.0      1      0     596  71.2833   \n",
       "2           1       3    14    0  26.0      0      0     669   7.9250   \n",
       "3           1       1    20    0  35.0      1      0      49  53.1000   \n",
       "4           0       3    19    1  35.0      0      0     472   8.0500   \n",
       "..        ...     ...   ...  ...   ...    ...    ...     ...      ...   \n",
       "886         0       2    17    1  27.0      0      0     101  13.0000   \n",
       "887         1       1    14    0  19.0      0      0      14  30.0000   \n",
       "888         0       3    14    0  28.0      1      2     675  23.4500   \n",
       "889         1       1    19    1  26.0      0      0       8  30.0000   \n",
       "890         0       3    19    1  32.0      0      0     466   7.7500   \n",
       "\n",
       "     FamilySize  \n",
       "0             1  \n",
       "1             1  \n",
       "2             0  \n",
       "3             1  \n",
       "4             0  \n",
       "..          ...  \n",
       "886           0  \n",
       "887           0  \n",
       "888           3  \n",
       "889           0  \n",
       "890           0  \n",
       "\n",
       "[891 rows x 10 columns]"
      ]
     },
     "execution_count": 38,
     "metadata": {},
     "output_type": "execute_result"
    }
   ],
   "source": [
    "#df = df.drop(columns =['Parch', 'Embarked', 'SibSp'])\n",
    "df = df.drop(columns =['Embarked'])\n",
    "df"
   ]
  },
  {
   "cell_type": "code",
   "execution_count": 39,
   "id": "88a171ea",
   "metadata": {
    "execution": {
     "iopub.execute_input": "2024-10-26T10:03:53.093986Z",
     "iopub.status.busy": "2024-10-26T10:03:53.093535Z",
     "iopub.status.idle": "2024-10-26T10:04:12.387234Z",
     "shell.execute_reply": "2024-10-26T10:04:12.385730Z"
    },
    "papermill": {
     "duration": 19.32089,
     "end_time": "2024-10-26T10:04:12.389952",
     "exception": false,
     "start_time": "2024-10-26T10:03:53.069062",
     "status": "completed"
    },
    "tags": []
   },
   "outputs": [
    {
     "name": "stdout",
     "output_type": "stream",
     "text": [
      "Epoch 1/30\n",
      "\u001b[1m5/5\u001b[0m \u001b[32m━━━━━━━━━━━━━━━━━━━━\u001b[0m\u001b[37m\u001b[0m \u001b[1m3s\u001b[0m 60ms/step - accuracy: 0.5387 - loss: 0.6898 - val_accuracy: 0.6503 - val_loss: 0.6809\n",
      "Epoch 2/30\n",
      "\u001b[1m5/5\u001b[0m \u001b[32m━━━━━━━━━━━━━━━━━━━━\u001b[0m\u001b[37m\u001b[0m \u001b[1m0s\u001b[0m 10ms/step - accuracy: 0.5702 - loss: 0.6875 - val_accuracy: 0.6503 - val_loss: 0.6729\n",
      "Epoch 3/30\n",
      "\u001b[1m5/5\u001b[0m \u001b[32m━━━━━━━━━━━━━━━━━━━━\u001b[0m\u001b[37m\u001b[0m \u001b[1m0s\u001b[0m 11ms/step - accuracy: 0.6069 - loss: 0.6731 - val_accuracy: 0.6503 - val_loss: 0.6641\n",
      "Epoch 4/30\n",
      "\u001b[1m5/5\u001b[0m \u001b[32m━━━━━━━━━━━━━━━━━━━━\u001b[0m\u001b[37m\u001b[0m \u001b[1m0s\u001b[0m 10ms/step - accuracy: 0.5971 - loss: 0.6697 - val_accuracy: 0.6503 - val_loss: 0.6562\n",
      "Epoch 5/30\n",
      "\u001b[1m5/5\u001b[0m \u001b[32m━━━━━━━━━━━━━━━━━━━━\u001b[0m\u001b[37m\u001b[0m \u001b[1m0s\u001b[0m 11ms/step - accuracy: 0.6059 - loss: 0.6735 - val_accuracy: 0.6503 - val_loss: 0.6489\n",
      "Epoch 6/30\n",
      "\u001b[1m5/5\u001b[0m \u001b[32m━━━━━━━━━━━━━━━━━━━━\u001b[0m\u001b[37m\u001b[0m \u001b[1m0s\u001b[0m 10ms/step - accuracy: 0.6283 - loss: 0.6584 - val_accuracy: 0.6503 - val_loss: 0.6419\n",
      "Epoch 7/30\n",
      "\u001b[1m5/5\u001b[0m \u001b[32m━━━━━━━━━━━━━━━━━━━━\u001b[0m\u001b[37m\u001b[0m \u001b[1m0s\u001b[0m 10ms/step - accuracy: 0.6298 - loss: 0.6593 - val_accuracy: 0.6503 - val_loss: 0.6359\n",
      "Epoch 8/30\n",
      "\u001b[1m5/5\u001b[0m \u001b[32m━━━━━━━━━━━━━━━━━━━━\u001b[0m\u001b[37m\u001b[0m \u001b[1m0s\u001b[0m 14ms/step - accuracy: 0.6334 - loss: 0.6524 - val_accuracy: 0.6503 - val_loss: 0.6309\n",
      "Epoch 9/30\n",
      "\u001b[1m5/5\u001b[0m \u001b[32m━━━━━━━━━━━━━━━━━━━━\u001b[0m\u001b[37m\u001b[0m \u001b[1m0s\u001b[0m 10ms/step - accuracy: 0.6290 - loss: 0.6477 - val_accuracy: 0.6503 - val_loss: 0.6255\n",
      "Epoch 10/30\n",
      "\u001b[1m5/5\u001b[0m \u001b[32m━━━━━━━━━━━━━━━━━━━━\u001b[0m\u001b[37m\u001b[0m \u001b[1m0s\u001b[0m 10ms/step - accuracy: 0.6054 - loss: 0.6471 - val_accuracy: 0.6503 - val_loss: 0.6187\n",
      "Epoch 11/30\n",
      "\u001b[1m5/5\u001b[0m \u001b[32m━━━━━━━━━━━━━━━━━━━━\u001b[0m\u001b[37m\u001b[0m \u001b[1m0s\u001b[0m 11ms/step - accuracy: 0.6374 - loss: 0.6274 - val_accuracy: 0.6503 - val_loss: 0.6097\n",
      "Epoch 12/30\n",
      "\u001b[1m5/5\u001b[0m \u001b[32m━━━━━━━━━━━━━━━━━━━━\u001b[0m\u001b[37m\u001b[0m \u001b[1m0s\u001b[0m 10ms/step - accuracy: 0.6222 - loss: 0.6320 - val_accuracy: 0.6503 - val_loss: 0.5999\n",
      "Epoch 13/30\n",
      "\u001b[1m5/5\u001b[0m \u001b[32m━━━━━━━━━━━━━━━━━━━━\u001b[0m\u001b[37m\u001b[0m \u001b[1m0s\u001b[0m 10ms/step - accuracy: 0.6394 - loss: 0.6299 - val_accuracy: 0.6503 - val_loss: 0.5894\n",
      "Epoch 14/30\n",
      "\u001b[1m5/5\u001b[0m \u001b[32m━━━━━━━━━━━━━━━━━━━━\u001b[0m\u001b[37m\u001b[0m \u001b[1m0s\u001b[0m 10ms/step - accuracy: 0.6269 - loss: 0.6383 - val_accuracy: 0.6503 - val_loss: 0.5789\n",
      "Epoch 15/30\n",
      "\u001b[1m5/5\u001b[0m \u001b[32m━━━━━━━━━━━━━━━━━━━━\u001b[0m\u001b[37m\u001b[0m \u001b[1m0s\u001b[0m 10ms/step - accuracy: 0.6543 - loss: 0.6103 - val_accuracy: 0.6573 - val_loss: 0.5678\n",
      "Epoch 16/30\n",
      "\u001b[1m5/5\u001b[0m \u001b[32m━━━━━━━━━━━━━━━━━━━━\u001b[0m\u001b[37m\u001b[0m \u001b[1m0s\u001b[0m 11ms/step - accuracy: 0.6480 - loss: 0.6116 - val_accuracy: 0.6783 - val_loss: 0.5567\n",
      "Epoch 17/30\n",
      "\u001b[1m5/5\u001b[0m \u001b[32m━━━━━━━━━━━━━━━━━━━━\u001b[0m\u001b[37m\u001b[0m \u001b[1m0s\u001b[0m 11ms/step - accuracy: 0.6571 - loss: 0.6093 - val_accuracy: 0.7063 - val_loss: 0.5460\n",
      "Epoch 18/30\n",
      "\u001b[1m5/5\u001b[0m \u001b[32m━━━━━━━━━━━━━━━━━━━━\u001b[0m\u001b[37m\u001b[0m \u001b[1m0s\u001b[0m 10ms/step - accuracy: 0.6728 - loss: 0.5956 - val_accuracy: 0.7413 - val_loss: 0.5352\n",
      "Epoch 19/30\n",
      "\u001b[1m5/5\u001b[0m \u001b[32m━━━━━━━━━━━━━━━━━━━━\u001b[0m\u001b[37m\u001b[0m \u001b[1m0s\u001b[0m 10ms/step - accuracy: 0.6992 - loss: 0.5925 - val_accuracy: 0.7762 - val_loss: 0.5242\n",
      "Epoch 20/30\n",
      "\u001b[1m5/5\u001b[0m \u001b[32m━━━━━━━━━━━━━━━━━━━━\u001b[0m\u001b[37m\u001b[0m \u001b[1m0s\u001b[0m 11ms/step - accuracy: 0.6849 - loss: 0.6034 - val_accuracy: 0.8112 - val_loss: 0.5150\n",
      "Epoch 21/30\n",
      "\u001b[1m5/5\u001b[0m \u001b[32m━━━━━━━━━━━━━━━━━━━━\u001b[0m\u001b[37m\u001b[0m \u001b[1m0s\u001b[0m 10ms/step - accuracy: 0.7288 - loss: 0.5875 - val_accuracy: 0.8252 - val_loss: 0.5067\n",
      "Epoch 22/30\n",
      "\u001b[1m5/5\u001b[0m \u001b[32m━━━━━━━━━━━━━━━━━━━━\u001b[0m\u001b[37m\u001b[0m \u001b[1m0s\u001b[0m 10ms/step - accuracy: 0.7076 - loss: 0.5830 - val_accuracy: 0.8601 - val_loss: 0.4995\n",
      "Epoch 23/30\n",
      "\u001b[1m5/5\u001b[0m \u001b[32m━━━━━━━━━━━━━━━━━━━━\u001b[0m\u001b[37m\u001b[0m \u001b[1m0s\u001b[0m 10ms/step - accuracy: 0.7348 - loss: 0.5522 - val_accuracy: 0.8531 - val_loss: 0.4910\n",
      "Epoch 24/30\n",
      "\u001b[1m5/5\u001b[0m \u001b[32m━━━━━━━━━━━━━━━━━━━━\u001b[0m\u001b[37m\u001b[0m \u001b[1m0s\u001b[0m 10ms/step - accuracy: 0.7407 - loss: 0.5733 - val_accuracy: 0.8462 - val_loss: 0.4841\n",
      "Epoch 25/30\n",
      "\u001b[1m5/5\u001b[0m \u001b[32m━━━━━━━━━━━━━━━━━━━━\u001b[0m\u001b[37m\u001b[0m \u001b[1m0s\u001b[0m 14ms/step - accuracy: 0.7455 - loss: 0.5408 - val_accuracy: 0.8322 - val_loss: 0.4747\n",
      "Epoch 26/30\n",
      "\u001b[1m5/5\u001b[0m \u001b[32m━━━━━━━━━━━━━━━━━━━━\u001b[0m\u001b[37m\u001b[0m \u001b[1m0s\u001b[0m 10ms/step - accuracy: 0.7486 - loss: 0.5646 - val_accuracy: 0.8322 - val_loss: 0.4662\n",
      "Epoch 27/30\n",
      "\u001b[1m5/5\u001b[0m \u001b[32m━━━━━━━━━━━━━━━━━━━━\u001b[0m\u001b[37m\u001b[0m \u001b[1m0s\u001b[0m 10ms/step - accuracy: 0.7404 - loss: 0.5430 - val_accuracy: 0.8392 - val_loss: 0.4576\n",
      "Epoch 28/30\n",
      "\u001b[1m5/5\u001b[0m \u001b[32m━━━━━━━━━━━━━━━━━━━━\u001b[0m\u001b[37m\u001b[0m \u001b[1m0s\u001b[0m 10ms/step - accuracy: 0.7668 - loss: 0.5711 - val_accuracy: 0.8252 - val_loss: 0.4518\n",
      "Epoch 29/30\n",
      "\u001b[1m5/5\u001b[0m \u001b[32m━━━━━━━━━━━━━━━━━━━━\u001b[0m\u001b[37m\u001b[0m \u001b[1m0s\u001b[0m 10ms/step - accuracy: 0.7985 - loss: 0.5222 - val_accuracy: 0.8252 - val_loss: 0.4466\n",
      "Epoch 30/30\n",
      "\u001b[1m5/5\u001b[0m \u001b[32m━━━━━━━━━━━━━━━━━━━━\u001b[0m\u001b[37m\u001b[0m \u001b[1m0s\u001b[0m 11ms/step - accuracy: 0.7568 - loss: 0.5418 - val_accuracy: 0.8252 - val_loss: 0.4433\n",
      "\u001b[1m6/6\u001b[0m \u001b[32m━━━━━━━━━━━━━━━━━━━━\u001b[0m\u001b[37m\u001b[0m \u001b[1m0s\u001b[0m 2ms/step - accuracy: 0.8234 - loss: 0.4550 \n",
      "Test Accuracy: 0.80\n"
     ]
    },
    {
     "data": {
      "image/png": "[encoded data removed]",
      "text/plain": [
       "<Figure size 640x480 with 1 Axes>"
      ]
     },
     "metadata": {},
     "output_type": "display_data"
    }
   ],
   "source": [
    "from sklearn.datasets import make_classification\n",
    "from sklearn.preprocessing import StandardScaler\n",
    "from keras.models import Sequential\n",
    "from keras.layers import Dense, Dropout\n",
    "from keras.layers import Input\n",
    "import matplotlib.pyplot as plt\n",
    "\n",
    "\n",
    "\n",
    "# Train-test split\n",
    "X_train, X_test, y_train, y_test = train_test_split(X, y, test_size=0.2, random_state=42)\n",
    "\n",
    "# Standardize the data\n",
    "scaler = StandardScaler()\n",
    "X_train = scaler.fit_transform(X_train)\n",
    "X_test = scaler.transform(X_test)\n",
    "\n",
    "# Create the neural network model\n",
    "model = Sequential()\n",
    "model.add(Input(shape=(X_train.shape[1],)))\n",
    "model.add(Dense(128, activation = \"leaky_relu\"))\n",
    "model.add(Dropout(0.5))\n",
    "model.add(Dense(32, activation = \"softmax\"))\n",
    "model.add(Dropout(0.5))\n",
    "model.add(Dense(64, activation = \"leaky_relu\"))\n",
    "model.add(Dropout(0.5))\n",
    "model.add(Dense(8, activation = \"leaky_relu\"))\n",
    "model.add(Dropout(0.5))\n",
    "model.add(Dense(1,activation = 'sigmoid'))\n",
    "\n",
    "# Compile the model\n",
    "model.compile(optimizer='adam', loss='binary_crossentropy', metrics=['accuracy'])\n",
    "\n",
    "# Train the model\n",
    "history = model.fit(X_train, y_train, epochs=30, batch_size=128, validation_split=0.2)\n",
    "\n",
    "# Evaluate the model\n",
    "loss, accuracy = model.evaluate(X_test, y_test)\n",
    "print(f'Test Accuracy: {accuracy:.2f}')\n",
    "\n",
    "%matplotlib inline\n",
    "plt.plot(history.history['loss'])\n",
    "plt.plot(history.history['val_loss'])\n",
    "plt.title('model loss')\n",
    "plt.ylabel('loss')\n",
    "plt.xlabel('epoch')\n",
    "plt.legend(['train', 'val'], loc='upper right')\n",
    "plt.show()"
   ]
  },
  {
   "cell_type": "markdown",
   "id": "96b87f7f",
   "metadata": {
    "papermill": {
     "duration": 0.028473,
     "end_time": "2024-10-26T10:04:12.447713",
     "exception": false,
     "start_time": "2024-10-26T10:04:12.419240",
     "status": "completed"
    },
    "tags": []
   },
   "source": [
    "# Несколько моделей сохранены в конце, дальше разбирается лучшая из полученных"
   ]
  },
  {
   "cell_type": "code",
   "execution_count": 40,
   "id": "5377f95f",
   "metadata": {
    "execution": {
     "iopub.execute_input": "2024-10-26T10:04:12.508261Z",
     "iopub.status.busy": "2024-10-26T10:04:12.507423Z",
     "iopub.status.idle": "2024-10-26T10:04:22.237596Z",
     "shell.execute_reply": "2024-10-26T10:04:22.236158Z"
    },
    "papermill": {
     "duration": 9.764331,
     "end_time": "2024-10-26T10:04:22.240849",
     "exception": false,
     "start_time": "2024-10-26T10:04:12.476518",
     "status": "completed"
    },
    "tags": []
   },
   "outputs": [
    {
     "name": "stdout",
     "output_type": "stream",
     "text": [
      "Epoch 1/30\n",
      "\u001b[1m5/5\u001b[0m \u001b[32m━━━━━━━━━━━━━━━━━━━━\u001b[0m\u001b[37m\u001b[0m \u001b[1m1s\u001b[0m 52ms/step - accuracy: 0.6182 - loss: 14.1313 - val_accuracy: 0.6503 - val_loss: 7.2684\n",
      "Epoch 2/30\n",
      "\u001b[1m5/5\u001b[0m \u001b[32m━━━━━━━━━━━━━━━━━━━━\u001b[0m\u001b[37m\u001b[0m \u001b[1m0s\u001b[0m 9ms/step - accuracy: 0.5596 - loss: 7.5720 - val_accuracy: 0.3357 - val_loss: 6.3998\n",
      "Epoch 3/30\n",
      "\u001b[1m5/5\u001b[0m \u001b[32m━━━━━━━━━━━━━━━━━━━━\u001b[0m\u001b[37m\u001b[0m \u001b[1m0s\u001b[0m 9ms/step - accuracy: 0.3174 - loss: 8.0320 - val_accuracy: 0.3217 - val_loss: 4.9651\n",
      "Epoch 4/30\n",
      "\u001b[1m5/5\u001b[0m \u001b[32m━━━━━━━━━━━━━━━━━━━━\u001b[0m\u001b[37m\u001b[0m \u001b[1m0s\u001b[0m 9ms/step - accuracy: 0.3844 - loss: 5.7178 - val_accuracy: 0.6434 - val_loss: 3.8222\n",
      "Epoch 5/30\n",
      "\u001b[1m5/5\u001b[0m \u001b[32m━━━━━━━━━━━━━━━━━━━━\u001b[0m\u001b[37m\u001b[0m \u001b[1m0s\u001b[0m 9ms/step - accuracy: 0.5832 - loss: 5.0550 - val_accuracy: 0.5664 - val_loss: 2.9443\n",
      "Epoch 6/30\n",
      "\u001b[1m5/5\u001b[0m \u001b[32m━━━━━━━━━━━━━━━━━━━━\u001b[0m\u001b[37m\u001b[0m \u001b[1m0s\u001b[0m 9ms/step - accuracy: 0.4551 - loss: 4.2244 - val_accuracy: 0.3566 - val_loss: 2.9350\n",
      "Epoch 7/30\n",
      "\u001b[1m5/5\u001b[0m \u001b[32m━━━━━━━━━━━━━━━━━━━━\u001b[0m\u001b[37m\u001b[0m \u001b[1m0s\u001b[0m 10ms/step - accuracy: 0.3474 - loss: 3.5397 - val_accuracy: 0.5315 - val_loss: 2.0184\n",
      "Epoch 8/30\n",
      "\u001b[1m5/5\u001b[0m \u001b[32m━━━━━━━━━━━━━━━━━━━━\u001b[0m\u001b[37m\u001b[0m \u001b[1m0s\u001b[0m 9ms/step - accuracy: 0.5393 - loss: 3.0030 - val_accuracy: 0.5385 - val_loss: 1.6436\n",
      "Epoch 9/30\n",
      "\u001b[1m5/5\u001b[0m \u001b[32m━━━━━━━━━━━━━━━━━━━━\u001b[0m\u001b[37m\u001b[0m \u001b[1m0s\u001b[0m 9ms/step - accuracy: 0.4965 - loss: 1.7788 - val_accuracy: 0.3217 - val_loss: 1.5045\n",
      "Epoch 10/30\n",
      "\u001b[1m5/5\u001b[0m \u001b[32m━━━━━━━━━━━━━━━━━━━━\u001b[0m\u001b[37m\u001b[0m \u001b[1m0s\u001b[0m 10ms/step - accuracy: 0.3628 - loss: 1.6024 - val_accuracy: 0.5804 - val_loss: 1.0230\n",
      "Epoch 11/30\n",
      "\u001b[1m5/5\u001b[0m \u001b[32m━━━━━━━━━━━━━━━━━━━━\u001b[0m\u001b[37m\u001b[0m \u001b[1m0s\u001b[0m 9ms/step - accuracy: 0.5779 - loss: 1.1849 - val_accuracy: 0.5874 - val_loss: 0.8741\n",
      "Epoch 12/30\n",
      "\u001b[1m5/5\u001b[0m \u001b[32m━━━━━━━━━━━━━━━━━━━━\u001b[0m\u001b[37m\u001b[0m \u001b[1m0s\u001b[0m 9ms/step - accuracy: 0.5340 - loss: 0.9628 - val_accuracy: 0.6224 - val_loss: 0.8626\n",
      "Epoch 13/30\n",
      "\u001b[1m5/5\u001b[0m \u001b[32m━━━━━━━━━━━━━━━━━━━━\u001b[0m\u001b[37m\u001b[0m \u001b[1m0s\u001b[0m 9ms/step - accuracy: 0.6257 - loss: 0.8179 - val_accuracy: 0.6993 - val_loss: 0.8397\n",
      "Epoch 14/30\n",
      "\u001b[1m5/5\u001b[0m \u001b[32m━━━━━━━━━━━━━━━━━━━━\u001b[0m\u001b[37m\u001b[0m \u001b[1m0s\u001b[0m 10ms/step - accuracy: 0.6676 - loss: 0.7751 - val_accuracy: 0.6503 - val_loss: 0.7844\n",
      "Epoch 15/30\n",
      "\u001b[1m5/5\u001b[0m \u001b[32m━━━━━━━━━━━━━━━━━━━━\u001b[0m\u001b[37m\u001b[0m \u001b[1m0s\u001b[0m 9ms/step - accuracy: 0.6497 - loss: 0.7574 - val_accuracy: 0.6853 - val_loss: 0.7150\n",
      "Epoch 16/30\n",
      "\u001b[1m5/5\u001b[0m \u001b[32m━━━━━━━━━━━━━━━━━━━━\u001b[0m\u001b[37m\u001b[0m \u001b[1m0s\u001b[0m 9ms/step - accuracy: 0.6738 - loss: 0.7035 - val_accuracy: 0.6853 - val_loss: 0.6860\n",
      "Epoch 17/30\n",
      "\u001b[1m5/5\u001b[0m \u001b[32m━━━━━━━━━━━━━━━━━━━━\u001b[0m\u001b[37m\u001b[0m \u001b[1m0s\u001b[0m 9ms/step - accuracy: 0.6845 - loss: 0.6753 - val_accuracy: 0.6713 - val_loss: 0.6632\n",
      "Epoch 18/30\n",
      "\u001b[1m5/5\u001b[0m \u001b[32m━━━━━━━━━━━━━━━━━━━━\u001b[0m\u001b[37m\u001b[0m \u001b[1m0s\u001b[0m 9ms/step - accuracy: 0.6672 - loss: 0.6656 - val_accuracy: 0.6643 - val_loss: 0.6542\n",
      "Epoch 19/30\n",
      "\u001b[1m5/5\u001b[0m \u001b[32m━━━━━━━━━━━━━━━━━━━━\u001b[0m\u001b[37m\u001b[0m \u001b[1m0s\u001b[0m 9ms/step - accuracy: 0.6779 - loss: 0.6639 - val_accuracy: 0.6853 - val_loss: 0.6403\n",
      "Epoch 20/30\n",
      "\u001b[1m5/5\u001b[0m \u001b[32m━━━━━━━━━━━━━━━━━━━━\u001b[0m\u001b[37m\u001b[0m \u001b[1m0s\u001b[0m 9ms/step - accuracy: 0.6903 - loss: 0.6433 - val_accuracy: 0.6783 - val_loss: 0.6376\n",
      "Epoch 21/30\n",
      "\u001b[1m5/5\u001b[0m \u001b[32m━━━━━━━━━━━━━━━━━━━━\u001b[0m\u001b[37m\u001b[0m \u001b[1m0s\u001b[0m 10ms/step - accuracy: 0.6705 - loss: 0.6329 - val_accuracy: 0.7063 - val_loss: 0.6277\n",
      "Epoch 22/30\n",
      "\u001b[1m5/5\u001b[0m \u001b[32m━━━━━━━━━━━━━━━━━━━━\u001b[0m\u001b[37m\u001b[0m \u001b[1m0s\u001b[0m 9ms/step - accuracy: 0.7165 - loss: 0.6104 - val_accuracy: 0.6923 - val_loss: 0.6368\n",
      "Epoch 23/30\n",
      "\u001b[1m5/5\u001b[0m \u001b[32m━━━━━━━━━━━━━━━━━━━━\u001b[0m\u001b[37m\u001b[0m \u001b[1m0s\u001b[0m 9ms/step - accuracy: 0.6923 - loss: 0.6109 - val_accuracy: 0.6923 - val_loss: 0.6148\n",
      "Epoch 24/30\n",
      "\u001b[1m5/5\u001b[0m \u001b[32m━━━━━━━━━━━━━━━━━━━━\u001b[0m\u001b[37m\u001b[0m \u001b[1m0s\u001b[0m 9ms/step - accuracy: 0.7028 - loss: 0.6039 - val_accuracy: 0.7203 - val_loss: 0.6061\n",
      "Epoch 25/30\n",
      "\u001b[1m5/5\u001b[0m \u001b[32m━━━━━━━━━━━━━━━━━━━━\u001b[0m\u001b[37m\u001b[0m \u001b[1m0s\u001b[0m 9ms/step - accuracy: 0.7062 - loss: 0.6038 - val_accuracy: 0.6993 - val_loss: 0.5986\n",
      "Epoch 26/30\n",
      "\u001b[1m5/5\u001b[0m \u001b[32m━━━━━━━━━━━━━━━━━━━━\u001b[0m\u001b[37m\u001b[0m \u001b[1m0s\u001b[0m 9ms/step - accuracy: 0.7158 - loss: 0.5752 - val_accuracy: 0.7133 - val_loss: 0.5995\n",
      "Epoch 27/30\n",
      "\u001b[1m5/5\u001b[0m \u001b[32m━━━━━━━━━━━━━━━━━━━━\u001b[0m\u001b[37m\u001b[0m \u001b[1m0s\u001b[0m 10ms/step - accuracy: 0.7076 - loss: 0.5896 - val_accuracy: 0.7063 - val_loss: 0.5946\n",
      "Epoch 28/30\n",
      "\u001b[1m5/5\u001b[0m \u001b[32m━━━━━━━━━━━━━━━━━━━━\u001b[0m\u001b[37m\u001b[0m \u001b[1m0s\u001b[0m 12ms/step - accuracy: 0.7054 - loss: 0.5837 - val_accuracy: 0.6993 - val_loss: 0.5876\n",
      "Epoch 29/30\n",
      "\u001b[1m5/5\u001b[0m \u001b[32m━━━━━━━━━━━━━━━━━━━━\u001b[0m\u001b[37m\u001b[0m \u001b[1m0s\u001b[0m 10ms/step - accuracy: 0.7111 - loss: 0.5824 - val_accuracy: 0.7063 - val_loss: 0.5849\n",
      "Epoch 30/30\n",
      "\u001b[1m5/5\u001b[0m \u001b[32m━━━━━━━━━━━━━━━━━━━━\u001b[0m\u001b[37m\u001b[0m \u001b[1m0s\u001b[0m 9ms/step - accuracy: 0.7206 - loss: 0.5668 - val_accuracy: 0.7063 - val_loss: 0.5799\n",
      "\u001b[1m6/6\u001b[0m \u001b[32m━━━━━━━━━━━━━━━━━━━━\u001b[0m\u001b[37m\u001b[0m \u001b[1m0s\u001b[0m 2ms/step - accuracy: 0.7184 - loss: 0.5508 \n",
      "\u001b[1m10/10\u001b[0m \u001b[32m━━━━━━━━━━━━━━━━━━━━\u001b[0m\u001b[37m\u001b[0m \u001b[1m0s\u001b[0m 4ms/step \n",
      "Confusion Matrix:\n",
      "[[170   7]\n",
      " [ 69  51]]\n",
      "\n",
      "Classification Report:\n",
      "              precision    recall  f1-score   support\n",
      "\n",
      "           0       0.71      0.96      0.82       177\n",
      "           1       0.88      0.42      0.57       120\n",
      "\n",
      "    accuracy                           0.74       297\n",
      "   macro avg       0.80      0.69      0.70       297\n",
      "weighted avg       0.78      0.74      0.72       297\n",
      "\n",
      "\u001b[1m10/10\u001b[0m \u001b[32m━━━━━━━━━━━━━━━━━━━━\u001b[0m\u001b[37m\u001b[0m \u001b[1m0s\u001b[0m 1ms/step \n",
      "Confusion Matrix:\n",
      "[[142  43]\n",
      " [ 32  80]]\n",
      "\n",
      "Classification Report:\n",
      "              precision    recall  f1-score   support\n",
      "\n",
      "           0       0.82      0.77      0.79       185\n",
      "           1       0.65      0.71      0.68       112\n",
      "\n",
      "    accuracy                           0.75       297\n",
      "   macro avg       0.73      0.74      0.74       297\n",
      "weighted avg       0.75      0.75      0.75       297\n",
      "\n",
      "\u001b[1m10/10\u001b[0m \u001b[32m━━━━━━━━━━━━━━━━━━━━\u001b[0m\u001b[37m\u001b[0m \u001b[1m0s\u001b[0m 2ms/step \n",
      "Confusion Matrix:\n",
      "[[172  15]\n",
      " [ 56  54]]\n",
      "\n",
      "Classification Report:\n",
      "              precision    recall  f1-score   support\n",
      "\n",
      "           0       0.75      0.92      0.83       187\n",
      "           1       0.78      0.49      0.60       110\n",
      "\n",
      "    accuracy                           0.76       297\n",
      "   macro avg       0.77      0.71      0.72       297\n",
      "weighted avg       0.76      0.76      0.75       297\n",
      "\n",
      "Best model index: 2\n",
      "Average Accuracy: 0.7508\n",
      "Standard Deviation of Accuracy: 0.0073\n",
      "Average Loss: 0.5172\n",
      "Standard Deviation of Loss: 0.0109\n"
     ]
    }
   ],
   "source": [
    "from sklearn.model_selection import KFold\n",
    "from sklearn.metrics import confusion_matrix, classification_report\n",
    "\n",
    "\n",
    "model = Sequential()\n",
    "model.add(Input(shape=(X_train.shape[1],)))\n",
    "model.add(Dense(64, activation = \"leaky_relu\"))\n",
    "model.add(Dense(1,activation = 'sigmoid' ))\n",
    "\n",
    "X_train, X_test, y_train, y_test = train_test_split(X, y, test_size=0.2, random_state=42)\n",
    "# Compile the model\n",
    "model.compile(optimizer='adam', loss='binary_crossentropy', metrics=['accuracy'])\n",
    "\n",
    "# Train the model\n",
    "history = model.fit(X_train, y_train, epochs=30, batch_size=128, validation_split=0.2)\n",
    "\n",
    "# Evaluate the model\n",
    "loss, accuracy = model.evaluate(X_test, y_test)\n",
    "\n",
    "\n",
    "\n",
    "kf = KFold(n_splits=3, shuffle=True, random_state=42)\n",
    "accuracies = []\n",
    "losses = []\n",
    "X1 = pd.DataFrame(scaler.transform(X_train), columns=X_train.columns, index=X_train.index)\n",
    "for train_index, test_index in kf.split(X):\n",
    "    \n",
    "    # Use iloc for integer-based indexing\n",
    "    X_train, X_test = X.iloc[train_index], X.iloc[test_index]\n",
    "    y_train, y_test = y.iloc[train_index], y.iloc[test_index]\n",
    "    \n",
    "    history = model.fit(X_train, y_train, \n",
    "                        epochs=30, batch_size=128, \n",
    "                        validation_data=(X_test, y_test),\n",
    "                        verbose=0)\n",
    "    y_pred = model.predict(X_test)    \n",
    "    if len(accuracies) == 0 or history.history['val_accuracy'][-1] > max(accuracies):\n",
    "        best_pred = y_pred\n",
    "    accuracies.append(history.history['val_accuracy'][-1])\n",
    "    losses.append(history.history['val_loss'][-1])\n",
    "\n",
    "    # Create the confusion matrix\n",
    "    conf_matrix = confusion_matrix(y_test, (y_pred > 0.5).astype(int))\n",
    "\n",
    "    # Print the confusion matrix\n",
    "    print(\"Confusion Matrix:\")\n",
    "    print(conf_matrix)\n",
    "\n",
    "    # Calculate and print accuracy, precision, recall, F1-score\n",
    "    print(\"\\nClassification Report:\")\n",
    "    print(classification_report(y_test, (y_pred > 0.5).astype(int)))\n",
    "best_model_index = np.argmax(accuracies)\n",
    "print(f\"Best model index: {best_model_index}\")\n",
    "print(f\"Average Accuracy: {np.mean(accuracies):.4f}\")\n",
    "print(f\"Standard Deviation of Accuracy: {np.std(accuracies):.4f}\")\n",
    "print(f\"Average Loss: {np.mean(losses):.4f}\")\n",
    "print(f\"Standard Deviation of Loss: {np.std(losses):.4f}\")"
   ]
  },
  {
   "cell_type": "code",
   "execution_count": 41,
   "id": "0adaa1bb",
   "metadata": {
    "execution": {
     "iopub.execute_input": "2024-10-26T10:04:22.315778Z",
     "iopub.status.busy": "2024-10-26T10:04:22.314596Z",
     "iopub.status.idle": "2024-10-26T10:04:22.428226Z",
     "shell.execute_reply": "2024-10-26T10:04:22.426295Z"
    },
    "papermill": {
     "duration": 0.153271,
     "end_time": "2024-10-26T10:04:22.430918",
     "exception": false,
     "start_time": "2024-10-26T10:04:22.277647",
     "status": "completed"
    },
    "tags": []
   },
   "outputs": [
    {
     "name": "stdout",
     "output_type": "stream",
     "text": [
      "\u001b[1m6/6\u001b[0m \u001b[32m━━━━━━━━━━━━━━━━━━━━\u001b[0m\u001b[37m\u001b[0m \u001b[1m0s\u001b[0m 2ms/step \n",
      "Confusion Matrix:\n",
      "[[98  7]\n",
      " [31 43]]\n",
      "\n",
      "Classification Report:\n",
      "              precision    recall  f1-score   support\n",
      "\n",
      "           0       0.76      0.93      0.84       105\n",
      "           1       0.86      0.58      0.69        74\n",
      "\n",
      "    accuracy                           0.79       179\n",
      "   macro avg       0.81      0.76      0.77       179\n",
      "weighted avg       0.80      0.79      0.78       179\n",
      "\n"
     ]
    }
   ],
   "source": [
    "X_train, X_test, y_train, y_test = train_test_split(X, y, test_size=0.2, random_state=42)\n",
    "y_pred = model.predict(X_test)\n",
    "if len(accuracies) == 0 or history.history['val_accuracy'][-1] > max(accuracies):\n",
    "    best_pred = y_pred\n",
    "accuracies.append(history.history['val_accuracy'][-1])\n",
    "losses.append(history.history['val_loss'][-1])\n",
    "\n",
    "# Create the confusion matrix\n",
    "conf_matrix = confusion_matrix(y_test, (y_pred > 0.5).astype(int))\n",
    "\n",
    "# Print the confusion matrix\n",
    "print(\"Confusion Matrix:\")\n",
    "print(conf_matrix)\n",
    "\n",
    "# Calculate and print accuracy, precision, recall, F1-score\n",
    "print(\"\\nClassification Report:\")\n",
    "print(classification_report(y_test, (y_pred > 0.5).astype(int)))\n",
    "tn, fp, fn, tp = conf_matrix.ravel()"
   ]
  },
  {
   "cell_type": "code",
   "execution_count": 42,
   "id": "338e2cd3",
   "metadata": {
    "collapsed": true,
    "execution": {
     "iopub.execute_input": "2024-10-26T10:04:22.506509Z",
     "iopub.status.busy": "2024-10-26T10:04:22.505985Z",
     "iopub.status.idle": "2024-10-26T10:04:22.525323Z",
     "shell.execute_reply": "2024-10-26T10:04:22.523386Z"
    },
    "jupyter": {
     "outputs_hidden": true
    },
    "papermill": {
     "duration": 0.060765,
     "end_time": "2024-10-26T10:04:22.528122",
     "exception": false,
     "start_time": "2024-10-26T10:04:22.467357",
     "status": "completed"
    },
    "tags": []
   },
   "outputs": [
    {
     "name": "stdout",
     "output_type": "stream",
     "text": [
      "{'0': {'precision': 0.7596899224806202, 'recall': 0.9333333333333333, 'f1-score': 0.8376068376068376, 'support': 105}, '1': {'precision': 0.86, 'recall': 0.581081081081081, 'f1-score': 0.6935483870967741, 'support': 74}, 'accuracy': 0.7877094972067039, 'macro avg': {'precision': 0.80984496124031, 'recall': 0.7572072072072071, 'f1-score': 0.7655776123518059, 'support': 179}, 'weighted avg': {'precision': 0.801158893075224, 'recall': 0.7877094972067039, 'f1-score': 0.7780519474518394, 'support': 179}}\n",
      "tn: 98 \n",
      "fp: 7\n",
      "fn: 31\n",
      "tp: 43 \n",
      "\n"
     ]
    }
   ],
   "source": [
    "dict = classification_report(y_test, (y_pred > 0.5).astype(int), output_dict=True)\n",
    "print(dict)\n",
    "print(f\"tn: {tn} \\nfp: {fp}\\nfn: {fn}\\ntp: {tp} \\n\")"
   ]
  },
  {
   "cell_type": "markdown",
   "id": "60399609",
   "metadata": {
    "papermill": {
     "duration": 0.037669,
     "end_time": "2024-10-26T10:04:22.602537",
     "exception": false,
     "start_time": "2024-10-26T10:04:22.564868",
     "status": "completed"
    },
    "tags": []
   },
   "source": [
    "# Выводы\n",
    "\n",
    "В итоге проделанной работы была получена модель, и её анализ. точность на тестовой выборке 0.81.\n",
    "\n",
    "TP(истинно-положительные) - 86\n",
    "\n",
    "FP(ложно-положительные) - 19\n",
    "\n",
    "TN(истинно-отрицательные) - 55\n",
    "\n",
    "FN(ложно-отрицательные) - 19\n",
    "\n",
    "Модель показала хороший уровень точности при классификации пассажиров Титаника.\n",
    "Модель лучше различает выживших (с более высокой пометкой) чем не выживших.\n",
    "Небольшое количество ложноположительных предсказаний (FP) говорит о низком риске неправильной классификации выживших как погибших."
   ]
  },
  {
   "attachments": {
    "48da415b-df90-4278-8a9d-7e8fd50f23c0.png": {
     "image/png": "[encoded data removed]"
    },
    "67057166-667e-406a-beba-101b25057b52.png": {
     "image/png": "[encoded data removed]"
    }
   },
   "cell_type": "markdown",
   "id": "2bb81913",
   "metadata": {
    "papermill": {
     "duration": 0.037414,
     "end_time": "2024-10-26T10:04:22.677275",
     "exception": false,
     "start_time": "2024-10-26T10:04:22.639861",
     "status": "completed"
    },
    "tags": []
   },
   "source": [
    "![image1.png](attachment:67057166-667e-406a-beba-101b25057b52.png)![image.png](attachment:48da415b-df90-4278-8a9d-7e8fd50f23c0.png)"
   ]
  },
  {
   "attachments": {
    "30e76ed1-997f-494e-ab00-03897c928937.png": {
     "image/png": "[encoded data removed]"
    }
   },
   "cell_type": "markdown",
   "id": "64ac99a3",
   "metadata": {
    "papermill": {
     "duration": 0.035738,
     "end_time": "2024-10-26T10:04:22.748874",
     "exception": false,
     "start_time": "2024-10-26T10:04:22.713136",
     "status": "completed"
    },
    "tags": []
   },
   "source": [
    "model = Sequential()\n",
    "model.add(Input(shape=(X_train.shape[1],)))\n",
    "model.add(Dense(64, activation = \"relu\"))\n",
    "model.add(Dense(1,activation = 'sigmoid' ))\n",
    "![image.png](attachment:30e76ed1-997f-494e-ab00-03897c928937.png)"
   ]
  },
  {
   "attachments": {
    "81fb7f8a-cc23-4290-b807-d4f8ca0e84c4.png": {
     "image/png": "[encoded data removed]"
    }
   },
   "cell_type": "markdown",
   "id": "b08b9b0f",
   "metadata": {
    "papermill": {
     "duration": 0.089159,
     "end_time": "2024-10-26T10:04:22.873799",
     "exception": false,
     "start_time": "2024-10-26T10:04:22.784640",
     "status": "completed"
    },
    "tags": []
   },
   "source": [
    "model = Sequential()\n",
    "model.add(Input(shape=(X_train.shape[1],)))\n",
    "model.add(Dense(64, activation = \"exponential\"))\n",
    "model.add(Dense(1,activation = 'sigmoid' ))\n",
    "\n",
    "model.compile(optimizer='adam', loss='binary_crossentropy', metrics=['accuracy'])\n",
    "\n",
    "history = model.fit(X_train, y_train, epochs=50, batch_size=128, validation_split=0.2)\n",
    "\n",
    "![image.png](attachment:81fb7f8a-cc23-4290-b807-d4f8ca0e84c4.png)"
   ]
  },
  {
   "cell_type": "code",
   "execution_count": null,
   "id": "13b074b9",
   "metadata": {
    "papermill": {
     "duration": 0.037581,
     "end_time": "2024-10-26T10:04:22.953817",
     "exception": false,
     "start_time": "2024-10-26T10:04:22.916236",
     "status": "completed"
    },
    "tags": []
   },
   "outputs": [],
   "source": []
  },
  {
   "cell_type": "code",
   "execution_count": null,
   "id": "69dd6808",
   "metadata": {
    "papermill": {
     "duration": 0.04014,
     "end_time": "2024-10-26T10:04:23.031630",
     "exception": false,
     "start_time": "2024-10-26T10:04:22.991490",
     "status": "completed"
    },
    "tags": []
   },
   "outputs": [],
   "source": []
  }
 ],
 "metadata": {
  "kaggle": {
   "accelerator": "none",
   "dataSources": [
    {
     "datasetId": 1247358,
     "sourceId": 2080558,
     "sourceType": "datasetVersion"
    }
   ],
   "dockerImageVersionId": 30786,
   "isGpuEnabled": false,
   "isInternetEnabled": false,
   "language": "python",
   "sourceType": "notebook"
  },
  "kernelspec": {
   "display_name": "Python 3",
   "language": "python",
   "name": "python3"
  },
  "language_info": {
   "codemirror_mode": {
    "name": "ipython",
    "version": 3
   },
   "file_extension": ".py",
   "mimetype": "text/x-python",
   "name": "python",
   "nbconvert_exporter": "python",
   "pygments_lexer": "ipython3",
   "version": "3.10.14"
  },
  "papermill": {
   "default_parameters": {},
   "duration": 58.469048,
   "end_time": "2024-10-26T10:04:24.794495",
   "environment_variables": {},
   "exception": null,
   "input_path": "__notebook__.ipynb",
   "output_path": "__notebook__.ipynb",
   "parameters": {},
   "start_time": "2024-10-26T10:03:26.325447",
   "version": "2.6.0"
  }
 },
 "nbformat": 4,
 "nbformat_minor": 5
}
